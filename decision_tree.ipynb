{
 "cells": [
  {
   "cell_type": "code",
   "id": "initial_id",
   "metadata": {
    "collapsed": true,
    "ExecuteTime": {
     "end_time": "2024-11-07T15:37:29.156012Z",
     "start_time": "2024-11-07T15:37:29.152941Z"
    }
   },
   "source": [
    "# DataFrame\n",
    "import pandas as pd\n",
    "\n",
    "import dateutil.parser"
   ],
   "outputs": [],
   "execution_count": 4
  },
  {
   "metadata": {
    "ExecuteTime": {
     "end_time": "2024-11-07T15:37:56.117444Z",
     "start_time": "2024-11-07T15:37:56.113262Z"
    }
   },
   "cell_type": "code",
   "source": [
    "# DATASET\n",
    "DATASET_COLUMNS = [\"sentiment\", \"ids\", \"date\", \"flag\", \"user\", \"text\", \"mapped_sentiment\", \"tokenized_text\", \"stemmed_text\", \"lemmatized_text\"]\n",
    "DATASET_ENCODING = \"ISO-8859-1\"\n",
    "\n",
    "TRAIN_FILE_NAME = \"train_data_prepared.csv\""
   ],
   "id": "12dee1ee7fdb6582",
   "outputs": [],
   "execution_count": 6
  },
  {
   "metadata": {
    "ExecuteTime": {
     "end_time": "2024-11-07T15:39:29.736560Z",
     "start_time": "2024-11-07T15:39:21.262959Z"
    }
   },
   "cell_type": "code",
   "source": [
    "df = pd.read_csv(TRAIN_FILE_NAME, encoding=DATASET_ENCODING)\n",
    "\n",
    "print(df.info())\n",
    "print(df.head(5))"
   ],
   "id": "954964426add1cee",
   "outputs": [
    {
     "name": "stdout",
     "output_type": "stream",
     "text": [
      "<class 'pandas.core.frame.DataFrame'>\n",
      "RangeIndex: 1600000 entries, 0 to 1599999\n",
      "Data columns (total 10 columns):\n",
      " #   Column            Non-Null Count    Dtype \n",
      "---  ------            --------------    ----- \n",
      " 0   sentiment         1600000 non-null  int64 \n",
      " 1   ids               1600000 non-null  int64 \n",
      " 2   date              1600000 non-null  object\n",
      " 3   flag              1600000 non-null  object\n",
      " 4   user              1600000 non-null  object\n",
      " 5   text              1600000 non-null  object\n",
      " 6   mapped_sentiment  1600000 non-null  object\n",
      " 7   tokenized_text    1600000 non-null  object\n",
      " 8   stemmed_text      1600000 non-null  object\n",
      " 9   lemmatized_text   1600000 non-null  object\n",
      "dtypes: int64(2), object(8)\n",
      "memory usage: 122.1+ MB\n",
      "None\n",
      "   sentiment         ids                       date      flag  \\\n",
      "0          0  1467810369  2009-04-06 23:12:45-07:00  NO_QUERY   \n",
      "1          0  1467810672  2009-04-06 23:12:49-07:00  NO_QUERY   \n",
      "2          0  1467810917  2009-04-06 23:12:53-07:00  NO_QUERY   \n",
      "3          0  1467811184  2009-04-06 23:12:57-07:00  NO_QUERY   \n",
      "4          0  1467811193  2009-04-06 23:12:57-07:00  NO_QUERY   \n",
      "\n",
      "              user                                               text  \\\n",
      "0  _TheSpecialOne_  @switchfoot http://twitpic.com/2y1zl - Awww, t...   \n",
      "1    scotthamilton  is upset that he can't update his Facebook by ...   \n",
      "2         mattycus  @Kenichan I dived many times for the ball. Man...   \n",
      "3          ElleCTF    my whole body feels itchy and like its on fire    \n",
      "4           Karoli  @nationwideclass no, it's not behaving at all....   \n",
      "\n",
      "  mapped_sentiment                                     tokenized_text  \\\n",
      "0         NEGATIVE  ['awww', 'bummer', 'shoulda', 'got', 'david', ...   \n",
      "1         NEGATIVE  ['upset', 'update', 'facebook', 'texting', 'mi...   \n",
      "2         NEGATIVE  ['dived', 'many', 'times', 'ball', 'managed', ...   \n",
      "3         NEGATIVE  ['whole', 'body', 'feels', 'itchy', 'like', 'f...   \n",
      "4         NEGATIVE                         ['behaving', 'mad', 'see']   \n",
      "\n",
      "                                        stemmed_text  \\\n",
      "0  ['awww', 'bummer', 'shoulda', 'got', 'david', ...   \n",
      "1  ['upset', 'updat', 'facebook', 'text', 'might'...   \n",
      "2  ['dive', 'mani', 'time', 'ball', 'manag', 'sav...   \n",
      "3  ['whole', 'bodi', 'feel', 'itchi', 'like', 'fi...   \n",
      "4                            ['behav', 'mad', 'see']   \n",
      "\n",
      "                                     lemmatized_text  \n",
      "0  ['awww', 'bummer', 'shoulda', 'got', 'david', ...  \n",
      "1  ['upset', 'update', 'facebook', 'texting', 'mi...  \n",
      "2  ['dived', 'many', 'time', 'ball', 'managed', '...  \n",
      "3  ['whole', 'body', 'feel', 'itchy', 'like', 'fi...  \n",
      "4                         ['behaving', 'mad', 'see']  \n"
     ]
    }
   ],
   "execution_count": 10
  }
 ],
 "metadata": {
  "kernelspec": {
   "display_name": "Python 3",
   "language": "python",
   "name": "python3"
  },
  "language_info": {
   "codemirror_mode": {
    "name": "ipython",
    "version": 2
   },
   "file_extension": ".py",
   "mimetype": "text/x-python",
   "name": "python",
   "nbconvert_exporter": "python",
   "pygments_lexer": "ipython2",
   "version": "2.7.6"
  }
 },
 "nbformat": 4,
 "nbformat_minor": 5
}

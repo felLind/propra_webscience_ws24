{
 "cells": [
  {
   "cell_type": "code",
   "id": "initial_id",
   "metadata": {
    "collapsed": true,
    "ExecuteTime": {
     "end_time": "2024-11-17T18:34:56.198881Z",
     "start_time": "2024-11-17T18:34:55.742037Z"
    }
   },
   "source": [
    "# DataFrame\n",
    "import pandas as pd\n",
    "\n",
    "import dateutil.parser"
   ],
   "outputs": [],
   "execution_count": 1
  },
  {
   "metadata": {
    "ExecuteTime": {
     "end_time": "2024-11-17T18:34:57.737119Z",
     "start_time": "2024-11-17T18:34:57.733863Z"
    }
   },
   "cell_type": "code",
   "source": [
    "# DATASET\n",
    "DATASET_COLUMNS = [\"mapped_sentiment\", \"lemmatized_text\"]\n",
    "DATASET_ENCODING = \"UTF-8\"\n",
    "\n",
    "TRAIN_FILE_NAME = \"train_data_prepared.csv\""
   ],
   "id": "12dee1ee7fdb6582",
   "outputs": [],
   "execution_count": 2
  },
  {
   "metadata": {
    "ExecuteTime": {
     "end_time": "2024-11-17T18:35:01.503538Z",
     "start_time": "2024-11-17T18:34:59.607629Z"
    }
   },
   "cell_type": "code",
   "source": [
    "df = pd.read_csv(TRAIN_FILE_NAME, encoding=DATASET_ENCODING)\n",
    "\n",
    "print(df.info())\n",
    "print(df.head(5))"
   ],
   "id": "954964426add1cee",
   "outputs": [
    {
     "name": "stdout",
     "output_type": "stream",
     "text": [
      "<class 'pandas.core.frame.DataFrame'>\n",
      "RangeIndex: 1600000 entries, 0 to 1599999\n",
      "Data columns (total 2 columns):\n",
      " #   Column            Non-Null Count    Dtype \n",
      "---  ------            --------------    ----- \n",
      " 0   mapped_sentiment  1600000 non-null  object\n",
      " 1   lemmatized_text   1600000 non-null  object\n",
      "dtypes: object(2)\n",
      "memory usage: 24.4+ MB\n",
      "None\n",
      "  mapped_sentiment                                    lemmatized_text\n",
      "0         NEGATIVE  ['aww', 'bummer', 'shoulda', 'got', 'david', '...\n",
      "1         NEGATIVE  ['upset', 'update', 'facebook', 'texting', 'mi...\n",
      "2         NEGATIVE  ['dived', 'many', 'time', 'ball', 'managed', '...\n",
      "3         NEGATIVE  ['whole', 'body', 'feel', 'itchy', 'like', 'fi...\n",
      "4         NEGATIVE                         ['behaving', 'mad', 'see']\n"
     ]
    }
   ],
   "execution_count": 3
  }
 ],
 "metadata": {
  "kernelspec": {
   "display_name": "Python 3",
   "language": "python",
   "name": "python3"
  },
  "language_info": {
   "codemirror_mode": {
    "name": "ipython",
    "version": 2
   },
   "file_extension": ".py",
   "mimetype": "text/x-python",
   "name": "python",
   "nbconvert_exporter": "python",
   "pygments_lexer": "ipython2",
   "version": "2.7.6"
  }
 },
 "nbformat": 4,
 "nbformat_minor": 5
}

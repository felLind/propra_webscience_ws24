{
 "cells": [
  {
   "cell_type": "code",
   "execution_count": 5,
   "id": "42fe8cc4-038e-4284-8892-2a7ddf0e21cf",
   "metadata": {},
   "outputs": [
    {
     "name": "stdout",
     "output_type": "stream",
     "text": [
      "Training des Modells...\n"
     ]
    },
    {
     "name": "stderr",
     "output_type": "stream",
     "text": [
      "Training Fortschritt:   0%|                               | 0/1 [00:00<?, ?it/s][Parallel(n_jobs=1)]: Using backend SequentialBackend with 1 concurrent workers.\n",
      "[Parallel(n_jobs=1)]: Done   1 out of   1 | elapsed:    7.1s finished\n",
      "Training Fortschritt: 100%|███████████████████████| 1/1 [00:07<00:00,  7.19s/it]"
     ]
    },
    {
     "name": "stdout",
     "output_type": "stream",
     "text": [
      "convergence after 23 epochs took 7 seconds\n",
      "\n",
      "Evaluierung des Modells...\n"
     ]
    },
    {
     "name": "stderr",
     "output_type": "stream",
     "text": [
      "\n"
     ]
    },
    {
     "name": "stdout",
     "output_type": "stream",
     "text": [
      "\n",
      "Accuracy: 0.7647625\n",
      "Classification Report:\n",
      "              precision    recall  f1-score   support\n",
      "\n",
      "           0       0.78      0.74      0.76    160000\n",
      "           1       0.75      0.79      0.77    160000\n",
      "\n",
      "    accuracy                           0.76    320000\n",
      "   macro avg       0.77      0.76      0.76    320000\n",
      "weighted avg       0.77      0.76      0.76    320000\n",
      "\n",
      "\n",
      "Korrekt klassifizierte Beispiele:\n",
      "                                                      text  true_label  \\\n",
      "78261    dont feel good think need sleep oh thanks hanging           0   \n",
      "593236   hate smartarse rooky police power trip pull is...           0   \n",
      "1552465  james play together least old time love busted...           1   \n",
      "894162    rampr week going awesome im sure great good luck           1   \n",
      "258270               sad win emerald samuelgordon congrats           0   \n",
      "\n",
      "         predicted_label  \n",
      "78261                  0  \n",
      "593236                 0  \n",
      "1552465                1  \n",
      "894162                 1  \n",
      "258270                 0  \n",
      "\n",
      "Falsch klassifizierte Beispiele:\n",
      "                                                      text  true_label  \\\n",
      "568473   world war jimmy kimmel amazing even tho didnt ...           0   \n",
      "1484009  bout go worki didnt get play belvedere game la...           1   \n",
      "1108685  absentee ballot arrived took three week km gue...           1   \n",
      "27856                             kicking as proving right           0   \n",
      "1489371  search sundae burger yield dinner dairy queen ...           1   \n",
      "\n",
      "         predicted_label  \n",
      "568473                 1  \n",
      "1484009                0  \n",
      "1108685                0  \n",
      "27856                  1  \n",
      "1489371                0  \n"
     ]
    }
   ],
   "source": [
    "import pandas as pd\n",
    "from sklearn.model_selection import train_test_split\n",
    "from sklearn.feature_extraction.text import TfidfVectorizer\n",
    "from sklearn.linear_model import LogisticRegression\n",
    "from sklearn.metrics import accuracy_score, classification_report\n",
    "from tqdm import tqdm\n",
    "\n",
    "# Daten laden\n",
    "# Wir laden die vorbereiteten Daten aus einer CSV-Datei. Die Datei sollte vorher aufbereitet worden sein.\n",
    "data = pd.read_csv('processed_sentiment140.csv')  # Passe den Pfad an die Datei an.\n",
    "\n",
    "# NaN-Werte entfernen oder ersetzen\n",
    "# Leere oder fehlende Texte werden durch einen leeren String ersetzt, damit keine Fehler entstehen.\n",
    "data['processed_text'] = data['processed_text'].fillna('')\n",
    "\n",
    "# Aufteilen in Merkmale (X) und Ziel (y)\n",
    "# 'processed_text' ist die vorbereitete Textspalte, 'Sentiment' das Ziel (positiv/negativ).\n",
    "X = data['processed_text']\n",
    "y = data['Sentiment']\n",
    "\n",
    "# Daten in Trainings- und Testdaten aufteilen\n",
    "# Wir teilen die Daten in Trainings- und Testdatensätze auf, um das Modell zu trainieren und zu evaluieren.\n",
    "# Stratify sorgt dafür, dass die Verteilung der Klassen im Training und Test gleich ist.\n",
    "X_train, X_test, y_train, y_test = train_test_split(\n",
    "    X, y, test_size=0.2, random_state=42, stratify=y\n",
    ")\n",
    "\n",
    "# TF-IDF-Transformation\n",
    "# Der Text wird in numerische Merkmale umgewandelt. \n",
    "# Wir verwenden TF-IDF (Term Frequency-Inverse Document Frequency), um die Bedeutung von Wörtern zu gewichten.\n",
    "tfidf_vectorizer = TfidfVectorizer(max_features=2000, ngram_range=(1, 2))\n",
    "X_train_tfidf = tfidf_vectorizer.fit_transform(X_train)  # Anpassen und Transformieren des Trainingsdatensatzes\n",
    "X_test_tfidf = tfidf_vectorizer.transform(X_test)  # Transformieren des Testdatensatzes\n",
    "\n",
    "# Fortschrittsanzeige für das Training\n",
    "# Wir verwenden `tqdm`, um den Fortschritt während des Modelltrainings anzuzeigen.\n",
    "print(\"Training des Modells...\")\n",
    "for _ in tqdm(range(1), desc=\"Training Fortschritt\"):\n",
    "    # Logistische Regression\n",
    "    # Wir verwenden Logistic Regression mit einem sparsamen Solver ('saga').\n",
    "    # Der Solver unterstützt größere Daten und L1/L2-Regularisierung.\n",
    "    logistic_model = LogisticRegression(max_iter=1000, solver='saga', verbose=1)\n",
    "    logistic_model.fit(X_train_tfidf, y_train)  # Das Modell wird auf den Trainingsdaten trainiert.\n",
    "\n",
    "# Vorhersage und Evaluierung\n",
    "# Das trainierte Modell wird verwendet, um Vorhersagen für den Testdatensatz zu treffen.\n",
    "print(\"\\nEvaluierung des Modells...\")\n",
    "y_pred = logistic_model.predict(X_test_tfidf)\n",
    "\n",
    "# Ergebnisse ausgeben\n",
    "# Wir berechnen die Genauigkeit (Accuracy) und geben einen detaillierten Klassifikationsbericht aus.\n",
    "accuracy = accuracy_score(y_test, y_pred)\n",
    "classification_report_text = classification_report(y_test, y_pred)\n",
    "\n",
    "print(f\"\\nAccuracy: {accuracy}\")\n",
    "print(f\"Classification Report:\\n{classification_report_text}\")\n",
    "\n",
    "# Ergebnisse zusammenführen\n",
    "# Wir fügen den ursprünglichen Text, die wahre Klasse und die vorhergesagte Klasse in einem DataFrame zusammen.\n",
    "results = pd.DataFrame({\n",
    "    'text': X_test,\n",
    "    'true_label': y_test,\n",
    "    'predicted_label': y_pred\n",
    "})\n",
    "\n",
    "# Beispiel korrekt klassifizierter Einträge\n",
    "# Zufällige Auswahl von 5 korrekt klassifizierten Beispielen.\n",
    "correct_predictions = results[results['true_label'] == results['predicted_label']].sample(5, random_state=42)\n",
    "\n",
    "# Beispiel falsch klassifizierter Einträge\n",
    "# Zufällige Auswahl von 5 falsch klassifizierten Beispielen.\n",
    "incorrect_predictions = results[results['true_label'] != results['predicted_label']].sample(5, random_state=42)\n",
    "\n",
    "# Anzeigen der Beispiele\n",
    "# Beispiele für die Analyse des Modells ausgeben.\n",
    "print(\"\\nKorrekt klassifizierte Beispiele:\")\n",
    "print(correct_predictions)\n",
    "\n",
    "print(\"\\nFalsch klassifizierte Beispiele:\")\n",
    "print(incorrect_predictions)\n"
   ]
  }
 ],
 "metadata": {
  "kernelspec": {
   "display_name": "Python 3 (ipykernel)",
   "language": "python",
   "name": "python3"
  },
  "language_info": {
   "codemirror_mode": {
    "name": "ipython",
    "version": 3
   },
   "file_extension": ".py",
   "mimetype": "text/x-python",
   "name": "python",
   "nbconvert_exporter": "python",
   "pygments_lexer": "ipython3",
   "version": "3.11.8"
  }
 },
 "nbformat": 4,
 "nbformat_minor": 5
}

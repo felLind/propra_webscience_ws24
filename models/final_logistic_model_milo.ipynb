{
 "cells": [
  {
   "cell_type": "code",
   "execution_count": 2,
   "id": "fb698670-86ac-459c-ac70-d8a3318b74a8",
   "metadata": {},
   "outputs": [
    {
     "name": "stdout",
     "output_type": "stream",
     "text": [
      "Lade die Trainingsdaten...\n",
      "Trainingsdaten geladen. Anzahl der Zeilen: 1600000\n",
      "Testdaten geladen. Anzahl der Zeilen: 359\n",
      "Zeit zum Laden der Daten: 1.02 Sekunden\n",
      "\n",
      "Bereinige NaN-Werte...\n",
      "Bereinigung abgeschlossen.\n",
      "\n",
      "Trainiere mit Trainingsdaten und evaluiere mit Testdaten...\n",
      "Trainingsdaten: 1600000, Testdaten: 359\n",
      "Zeit für die Datenaufteilung: 1.17 Sekunden\n",
      "\n",
      "Starte TF-IDF-Transformation...\n",
      "TF-IDF-Transformation abgeschlossen. Zeit: 179.49 Sekunden\n",
      "\n",
      "Starte GridSearch für Hyperparameter-Tuning...\n",
      "Fitting 3 folds for each of 9 candidates, totalling 27 fits\n",
      "[CV 1/3] END C=0.1, penalty=l1, solver=liblinear;, score=0.787 total time=   3.7s\n",
      "[CV 2/3] END C=0.1, penalty=l1, solver=liblinear;, score=0.789 total time=   3.7s\n",
      "[CV 3/3] END C=0.1, penalty=l1, solver=liblinear;, score=0.793 total time=   3.7s\n",
      "[CV 1/3] END C=0.1, penalty=l2, solver=liblinear;, score=0.787 total time=   2.4s\n",
      "[CV 2/3] END C=0.1, penalty=l2, solver=liblinear;, score=0.790 total time=   2.4s\n",
      "[CV 3/3] END C=0.1, penalty=l2, solver=liblinear;, score=0.793 total time=   2.4s\n",
      "[CV 1/3] END .C=1, penalty=l1, solver=liblinear;, score=0.789 total time=   4.9s\n",
      "[CV 2/3] END .C=1, penalty=l1, solver=liblinear;, score=0.790 total time=   4.9s\n",
      "[CV 3/3] END .C=1, penalty=l1, solver=liblinear;, score=0.795 total time=   4.7s\n",
      "[CV 1/3] END .C=1, penalty=l2, solver=liblinear;, score=0.789 total time=   3.6s\n",
      "[CV 2/3] END .C=1, penalty=l2, solver=liblinear;, score=0.790 total time=   4.8s\n",
      "[CV 3/3] END .C=1, penalty=l2, solver=liblinear;, score=0.794 total time=   4.8s\n",
      "[CV 1/3] END C=10, penalty=l1, solver=liblinear;, score=0.788 total time=   4.9s\n",
      "[CV 2/3] END C=10, penalty=l1, solver=liblinear;, score=0.790 total time=   5.4s\n",
      "[CV 3/3] END C=10, penalty=l1, solver=liblinear;, score=0.794 total time=   5.2s\n",
      "[CV 1/3] END C=10, penalty=l2, solver=liblinear;, score=0.788 total time=   8.8s\n",
      "[CV 2/3] END C=10, penalty=l2, solver=liblinear;, score=0.790 total time=   8.4s\n",
      "[CV 3/3] END C=10, penalty=l2, solver=liblinear;, score=0.794 total time=   8.0s\n",
      "[CV 1/3] END ....C=0.1, penalty=l2, solver=saga;, score=0.787 total time=   8.3s\n",
      "[CV 2/3] END ....C=0.1, penalty=l2, solver=saga;, score=0.790 total time=   8.3s\n",
      "[CV 3/3] END ....C=0.1, penalty=l2, solver=saga;, score=0.793 total time=   8.3s\n",
      "[CV 1/3] END ......C=1, penalty=l2, solver=saga;, score=0.789 total time=   7.9s\n",
      "[CV 2/3] END ......C=1, penalty=l2, solver=saga;, score=0.790 total time=   8.3s\n",
      "[CV 3/3] END ......C=1, penalty=l2, solver=saga;, score=0.794 total time=   8.6s\n",
      "[CV 1/3] END .....C=10, penalty=l2, solver=saga;, score=0.788 total time=  20.5s\n",
      "[CV 2/3] END .....C=10, penalty=l2, solver=saga;, score=0.790 total time=  19.4s\n",
      "[CV 3/3] END .....C=10, penalty=l2, solver=saga;, score=0.794 total time=  19.8s\n",
      "GridSearch abgeschlossen. Zeit: 206.57 Sekunden\n",
      "\n",
      "Training über 10 Epochen...\n"
     ]
    },
    {
     "name": "stderr",
     "output_type": "stream",
     "text": [
      "Epochen:   0%|                                                                                                                                                                       | 0/10 [00:00<?, ?it/s]"
     ]
    },
    {
     "name": "stdout",
     "output_type": "stream",
     "text": [
      "\n",
      "Epoche 1 beginnt...\n"
     ]
    },
    {
     "name": "stderr",
     "output_type": "stream",
     "text": [
      "Epochen:  10%|███████████████▉                                                                                                                                               | 1/10 [00:15<02:16, 15.11s/it]"
     ]
    },
    {
     "name": "stdout",
     "output_type": "stream",
     "text": [
      "  Accuracy: 0.7939\n",
      "  F1-Score: 0.7920\n",
      "  Bestes Modell aktualisiert in Epoche 1. F1-Score: 0.7920\n",
      "\n",
      "Epoche 2 beginnt...\n"
     ]
    },
    {
     "name": "stderr",
     "output_type": "stream",
     "text": [
      "Epochen:  20%|███████████████████████████████▊                                                                                                                               | 2/10 [00:25<01:39, 12.47s/it]"
     ]
    },
    {
     "name": "stdout",
     "output_type": "stream",
     "text": [
      "  Accuracy: 0.7939\n",
      "  F1-Score: 0.7920\n",
      "\n",
      "Epoche 3 beginnt...\n"
     ]
    },
    {
     "name": "stderr",
     "output_type": "stream",
     "text": [
      "Epochen:  30%|███████████████████████████████████████████████▋                                                                                                               | 3/10 [00:36<01:21, 11.71s/it]"
     ]
    },
    {
     "name": "stdout",
     "output_type": "stream",
     "text": [
      "  Accuracy: 0.7939\n",
      "  F1-Score: 0.7920\n",
      "\n",
      "Epoche 4 beginnt...\n"
     ]
    },
    {
     "name": "stderr",
     "output_type": "stream",
     "text": [
      "Epochen:  40%|███████████████████████████████████████████████████████████████▌                                                                                               | 4/10 [00:47<01:07, 11.29s/it]"
     ]
    },
    {
     "name": "stdout",
     "output_type": "stream",
     "text": [
      "  Accuracy: 0.7939\n",
      "  F1-Score: 0.7920\n",
      "\n",
      "Epoche 5 beginnt...\n"
     ]
    },
    {
     "name": "stderr",
     "output_type": "stream",
     "text": [
      "Epochen:  50%|███████████████████████████████████████████████████████████████████████████████▌                                                                               | 5/10 [00:57<00:54, 10.92s/it]"
     ]
    },
    {
     "name": "stdout",
     "output_type": "stream",
     "text": [
      "  Accuracy: 0.7939\n",
      "  F1-Score: 0.7920\n",
      "\n",
      "Epoche 6 beginnt...\n"
     ]
    },
    {
     "name": "stderr",
     "output_type": "stream",
     "text": [
      "Epochen:  60%|███████████████████████████████████████████████████████████████████████████████████████████████▍                                                               | 6/10 [01:07<00:42, 10.73s/it]"
     ]
    },
    {
     "name": "stdout",
     "output_type": "stream",
     "text": [
      "  Accuracy: 0.7939\n",
      "  F1-Score: 0.7920\n",
      "\n",
      "Epoche 7 beginnt...\n"
     ]
    },
    {
     "name": "stderr",
     "output_type": "stream",
     "text": [
      "Epochen:  70%|███████████████████████████████████████████████████████████████████████████████████████████████████████████████▎                                               | 7/10 [01:18<00:32, 10.81s/it]"
     ]
    },
    {
     "name": "stdout",
     "output_type": "stream",
     "text": [
      "  Accuracy: 0.7939\n",
      "  F1-Score: 0.7920\n",
      "\n",
      "Epoche 8 beginnt...\n"
     ]
    },
    {
     "name": "stderr",
     "output_type": "stream",
     "text": [
      "Epochen:  80%|███████████████████████████████████████████████████████████████████████████████████████████████████████████████████████████████▏                               | 8/10 [01:30<00:21, 10.97s/it]"
     ]
    },
    {
     "name": "stdout",
     "output_type": "stream",
     "text": [
      "  Accuracy: 0.7939\n",
      "  F1-Score: 0.7920\n",
      "\n",
      "Epoche 9 beginnt...\n"
     ]
    },
    {
     "name": "stderr",
     "output_type": "stream",
     "text": [
      "Epochen:  90%|███████████████████████████████████████████████████████████████████████████████████████████████████████████████████████████████████████████████                | 9/10 [01:40<00:10, 10.74s/it]"
     ]
    },
    {
     "name": "stdout",
     "output_type": "stream",
     "text": [
      "  Accuracy: 0.7939\n",
      "  F1-Score: 0.7920\n",
      "\n",
      "Epoche 10 beginnt...\n"
     ]
    },
    {
     "name": "stderr",
     "output_type": "stream",
     "text": [
      "Epochen: 100%|██████████████████████████████████████████████████████████████████████████████████████████████████████████████████████████████████████████████████████████████| 10/10 [01:51<00:00, 11.13s/it]"
     ]
    },
    {
     "name": "stdout",
     "output_type": "stream",
     "text": [
      "  Accuracy: 0.7939\n",
      "  F1-Score: 0.7920\n",
      "\n",
      "Evaluierung des besten Modells...\n",
      "\n",
      "Beste Hyperparameter: {'C': 1, 'penalty': 'l1', 'solver': 'liblinear'}\n",
      "  Final Accuracy: 0.7939\n",
      "  Final Precision: 0.8030\n",
      "  Final Recall: 0.7939\n",
      "  Final F1-Score: 0.7920\n",
      "Classification Report:\n",
      "              precision    recall  f1-score   support\n",
      "\n",
      "           0       0.86      0.70      0.77       177\n",
      "           1       0.75      0.88      0.81       182\n",
      "\n",
      "    accuracy                           0.79       359\n",
      "   macro avg       0.80      0.79      0.79       359\n",
      "weighted avg       0.80      0.79      0.79       359\n",
      "\n",
      "\n",
      "Gesamtlaufzeit: 498.66 Sekunden\n"
     ]
    },
    {
     "name": "stderr",
     "output_type": "stream",
     "text": [
      "\n"
     ]
    }
   ],
   "source": [
    "import pandas as pd\n",
    "from sklearn.model_selection import train_test_split, GridSearchCV\n",
    "from sklearn.feature_extraction.text import TfidfVectorizer\n",
    "from sklearn.linear_model import LogisticRegression\n",
    "from sklearn.metrics import accuracy_score, classification_report, precision_score, recall_score, f1_score\n",
    "import time\n",
    "from tqdm import tqdm\n",
    "\n",
    "# Zeitmessung starten\n",
    "start_time = time.time()\n",
    "\n",
    "# Ordnerpfad angeben\n",
    "folder_path = 'trainingandtestdata'  # Update this to the folder containing your data files\n",
    "\n",
    "# Dateien laden\n",
    "train_file_path = f\"{folder_path}/processed_training_data.csv\"\n",
    "test_file_path = f\"{folder_path}/processed_test_data.csv\"\n",
    "\n",
    "# 1. Daten laden\n",
    "print(\"Lade die Trainingsdaten...\")\n",
    "train_data = pd.read_csv(train_file_path)  \n",
    "test_data = pd.read_csv(test_file_path)  \n",
    "print(f\"Trainingsdaten geladen. Anzahl der Zeilen: {len(train_data)}\")\n",
    "print(f\"Testdaten geladen. Anzahl der Zeilen: {len(test_data)}\")\n",
    "print(f\"Zeit zum Laden der Daten: {time.time() - start_time:.2f} Sekunden\")\n",
    "\n",
    "# NaN-Werte entfernen oder ersetzen\n",
    "print(\"\\nBereinige NaN-Werte...\")\n",
    "train_data['processed_text'] = train_data['processed_text'].fillna('')\n",
    "test_data['processed_text'] = test_data['processed_text'].fillna('')\n",
    "print(\"Bereinigung abgeschlossen.\")\n",
    "\n",
    "# 2. Trainings- und Testdaten aufteilen\n",
    "print(\"\\nTrainiere mit Trainingsdaten und evaluiere mit Testdaten...\")\n",
    "X_train = train_data['processed_text']\n",
    "y_train = train_data['Sentiment']\n",
    "X_test = test_data['processed_text']\n",
    "y_test = test_data['Sentiment']\n",
    "\n",
    "print(f\"Trainingsdaten: {len(X_train)}, Testdaten: {len(X_test)}\")\n",
    "print(f\"Zeit für die Datenaufteilung: {time.time() - start_time:.2f} Sekunden\")\n",
    "\n",
    "# 3. TF-IDF-Transformation\n",
    "print(\"\\nStarte TF-IDF-Transformation...\")\n",
    "tfidf_start = time.time()\n",
    "tfidf_vectorizer = TfidfVectorizer(\n",
    "    max_features=5000, ngram_range=(1, 3)\n",
    ")\n",
    "X_train_tfidf = tfidf_vectorizer.fit_transform(X_train)\n",
    "X_test_tfidf = tfidf_vectorizer.transform(X_test)\n",
    "print(f\"TF-IDF-Transformation abgeschlossen. Zeit: {time.time() - tfidf_start:.2f} Sekunden\")\n",
    "\n",
    "# 4. Hyperparameter-Tuning mit GridSearchCV\n",
    "print(\"\\nStarte GridSearch für Hyperparameter-Tuning...\")\n",
    "grid_start = time.time()\n",
    "param_grid = [\n",
    "    {'C': [0.1, 1, 10], 'solver': ['liblinear'], 'penalty': ['l1', 'l2']},  # l1 und l2 mit liblinear\n",
    "    {'C': [0.1, 1, 10], 'solver': ['saga'], 'penalty': ['l2']}  # Nur l2 mit saga\n",
    "]\n",
    "grid_search = GridSearchCV(\n",
    "    LogisticRegression(max_iter=5000, class_weight='balanced'), \n",
    "    param_grid, \n",
    "    cv=3, \n",
    "    scoring='accuracy', \n",
    "    verbose=3\n",
    ")\n",
    "grid_search.fit(X_train_tfidf, y_train)\n",
    "print(f\"GridSearch abgeschlossen. Zeit: {time.time() - grid_start:.2f} Sekunden\")\n",
    "\n",
    "# Initialisiere bestes Modell und beste Metriken\n",
    "best_epoch_model = None\n",
    "best_epoch_params = None\n",
    "best_f1_score = 0\n",
    "n_epochs = 10\n",
    "\n",
    "# Training über mehrere Epochen\n",
    "print(\"\\nTraining über 10 Epochen...\")\n",
    "for epoch in tqdm(range(1, n_epochs + 1), desc=\"Epochen\"):\n",
    "    print(f\"\\nEpoche {epoch} beginnt...\")\n",
    "    \n",
    "    # Erstelle und trainiere das Modell mit den besten Parametern\n",
    "    model = LogisticRegression(**grid_search.best_params_, max_iter=5000, class_weight='balanced')\n",
    "    model.fit(X_train_tfidf, y_train)\n",
    "    \n",
    "    # Vorhersagen auf Testdaten\n",
    "    y_pred = model.predict(X_test_tfidf)\n",
    "    \n",
    "    # Berechnung der Metriken\n",
    "    epoch_accuracy = accuracy_score(y_test, y_pred)\n",
    "    epoch_f1 = f1_score(y_test, y_pred, average='weighted')\n",
    "    print(f\"  Accuracy: {epoch_accuracy:.4f}\")\n",
    "    print(f\"  F1-Score: {epoch_f1:.4f}\")\n",
    "    \n",
    "    # Speichere das Modell, falls es besser ist\n",
    "    if epoch_f1 > best_f1_score:\n",
    "        best_f1_score = epoch_f1\n",
    "        best_epoch_model = model\n",
    "        best_epoch_params = grid_search.best_params_\n",
    "        print(f\"  Bestes Modell aktualisiert in Epoche {epoch}. F1-Score: {best_f1_score:.4f}\")\n",
    "\n",
    "# Finales Modell evaluieren\n",
    "print(\"\\nEvaluierung des besten Modells...\")\n",
    "y_pred_final = best_epoch_model.predict(X_test_tfidf)\n",
    "\n",
    "# Berechnung der endgültigen Metriken\n",
    "final_accuracy = accuracy_score(y_test, y_pred_final)\n",
    "final_precision = precision_score(y_test, y_pred_final, average='weighted')\n",
    "final_recall = recall_score(y_test, y_pred_final, average='weighted')\n",
    "final_f1 = f1_score(y_test, y_pred_final, average='weighted')\n",
    "\n",
    "# Ergebnisse anzeigen\n",
    "print(f\"\\nBeste Hyperparameter: {best_epoch_params}\")\n",
    "print(f\"  Final Accuracy: {final_accuracy:.4f}\")\n",
    "print(f\"  Final Precision: {final_precision:.4f}\")\n",
    "print(f\"  Final Recall: {final_recall:.4f}\")\n",
    "print(f\"  Final F1-Score: {final_f1:.4f}\")\n",
    "print(f\"Classification Report:\\n{classification_report(y_test, y_pred_final)}\")\n",
    "\n",
    "# Gesamtlaufzeit\n",
    "print(f\"\\nGesamtlaufzeit: {time.time() - start_time:.2f} Sekunden\")\n"
   ]
  }
 ],
 "metadata": {
  "kernelspec": {
   "display_name": "Python 3 (ipykernel)",
   "language": "python",
   "name": "python3"
  },
  "language_info": {
   "codemirror_mode": {
    "name": "ipython",
    "version": 3
   },
   "file_extension": ".py",
   "mimetype": "text/x-python",
   "name": "python",
   "nbconvert_exporter": "python",
   "pygments_lexer": "ipython3",
   "version": "3.11.8"
  }
 },
 "nbformat": 4,
 "nbformat_minor": 5
}

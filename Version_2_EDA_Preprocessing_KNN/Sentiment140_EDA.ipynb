{
 "cells": [
  {
   "cell_type": "markdown",
   "metadata": {
    "id": "B-8nuSFFNEKg"
   },
   "source": [
    "# Twitter Sentiment Analysis\n",
    "\n",
    "Dataset: https://cs.stanford.edu/people/alecmgo/trainingandtestdata.zip\n",
    "\n",
    "Paper: https://www-cs.stanford.edu/people/alecmgo/papers/TwitterDistantSupervision09.pdf\n",
    "\n",
    "Go, A., Bhayani, R. and Huang, L., 2009. Twitter sentiment classification using distant supervision. CS224N Project Report, Stanford, 1(2009), p.12.\n",
    "\n",
    "\n",
    "\n",
    "Columns:\n",
    "\n",
    "- target: the polarity of the tweet (0 = negative, 2 = neutral, 4 = positive)\n",
    "- ids: The id of the tweet ( 2087)\n",
    "- date: the date of the tweet (Sat May 16 23:58:44 UTC 2009)\n",
    "- flag: The query (lyx). If there is no query, then this value is NO_QUERY.\n",
    "- user: the user that tweeted (robotickilldozr)\n",
    "- text: the text of the tweet (Lyx is cool)"
   ]
  },
  {
   "cell_type": "code",
   "execution_count": 1,
   "metadata": {
    "colab": {
     "base_uri": "https://localhost:8080/"
    },
    "id": "2sZE6cT7_gv7",
    "outputId": "2367e85c-da45-4383-ee72-3a50c4636679"
   },
   "outputs": [
    {
     "name": "stderr",
     "output_type": "stream",
     "text": [
      "[nltk_data] Downloading package stopwords to\n",
      "[nltk_data]     C:\\Users\\Anne\\AppData\\Roaming\\nltk_data...\n",
      "[nltk_data]   Package stopwords is already up-to-date!\n",
      "[nltk_data] Downloading package punkt to\n",
      "[nltk_data]     C:\\Users\\Anne\\AppData\\Roaming\\nltk_data...\n",
      "[nltk_data]   Package punkt is already up-to-date!\n",
      "[nltk_data] Downloading package wordnet to\n",
      "[nltk_data]     C:\\Users\\Anne\\AppData\\Roaming\\nltk_data...\n",
      "[nltk_data]   Package wordnet is already up-to-date!\n"
     ]
    },
    {
     "data": {
      "text/plain": [
       "True"
      ]
     },
     "execution_count": 1,
     "metadata": {},
     "output_type": "execute_result"
    }
   ],
   "source": [
    "# Libraries\n",
    "import pandas as pd\n",
    "import re\n",
    "import nltk\n",
    "from nltk.corpus import stopwords\n",
    "from nltk.stem import PorterStemmer, WordNetLemmatizer\n",
    "nltk.download('stopwords')\n",
    "nltk.download('punkt')\n",
    "nltk.download('wordnet')"
   ]
  },
  {
   "cell_type": "code",
   "execution_count": 2,
   "metadata": {
    "id": "oxmTQmTvBBtV"
   },
   "outputs": [],
   "source": [
    "# Constants\n",
    "TRAIN_DATA_NAME = 'sentiment140/training.1600000.processed.noemoticon.csv'\n",
    "TRAIN_COLUMN_NAMES = ['sentiment', 'id', 'date', 'flag', 'user', 'tweet']\n",
    "\n",
    "ENCODING = 'latin-1'\n",
    "NROWS = 1600000"
   ]
  },
  {
   "cell_type": "code",
   "execution_count": 3,
   "metadata": {
    "colab": {
     "base_uri": "https://localhost:8080/",
     "height": 348
    },
    "id": "XXCDQr68BWmK",
    "outputId": "c74281a8-6b36-49c0-c241-2c6ff28ea639"
   },
   "outputs": [
    {
     "name": "stderr",
     "output_type": "stream",
     "text": [
      "C:\\Users\\Anne\\AppData\\Local\\Temp\\ipykernel_15452\\2308195955.py:4: FutureWarning: Parsed string \"Mon Apr 06 22:19:45 PDT 2009\" included an un-recognized timezone \"PDT\". Dropping unrecognized timezones is deprecated; in a future version this will raise. Instead pass the string without the timezone, then use .tz_localize to convert to a recognized timezone.\n",
      "  df = pd.read_csv(TRAIN_DATA_NAME,\n"
     ]
    },
    {
     "data": {
      "text/html": [
       "<div>\n",
       "<style scoped>\n",
       "    .dataframe tbody tr th:only-of-type {\n",
       "        vertical-align: middle;\n",
       "    }\n",
       "\n",
       "    .dataframe tbody tr th {\n",
       "        vertical-align: top;\n",
       "    }\n",
       "\n",
       "    .dataframe thead th {\n",
       "        text-align: right;\n",
       "    }\n",
       "</style>\n",
       "<table border=\"1\" class=\"dataframe\">\n",
       "  <thead>\n",
       "    <tr style=\"text-align: right;\">\n",
       "      <th></th>\n",
       "      <th>sentiment</th>\n",
       "      <th>id</th>\n",
       "      <th>date</th>\n",
       "      <th>flag</th>\n",
       "      <th>user</th>\n",
       "      <th>tweet</th>\n",
       "    </tr>\n",
       "  </thead>\n",
       "  <tbody>\n",
       "    <tr>\n",
       "      <th>0</th>\n",
       "      <td>0</td>\n",
       "      <td>1467810369</td>\n",
       "      <td>2009-04-06 22:19:45</td>\n",
       "      <td>NO_QUERY</td>\n",
       "      <td>_TheSpecialOne_</td>\n",
       "      <td>@switchfoot http://twitpic.com/2y1zl - Awww, that's a bummer.  You shoulda got David Carr of Third Day to do it. ;D</td>\n",
       "    </tr>\n",
       "    <tr>\n",
       "      <th>1</th>\n",
       "      <td>0</td>\n",
       "      <td>1467810672</td>\n",
       "      <td>2009-04-06 22:19:49</td>\n",
       "      <td>NO_QUERY</td>\n",
       "      <td>scotthamilton</td>\n",
       "      <td>is upset that he can't update his Facebook by texting it... and might cry as a result  School today also. Blah!</td>\n",
       "    </tr>\n",
       "    <tr>\n",
       "      <th>2</th>\n",
       "      <td>0</td>\n",
       "      <td>1467810917</td>\n",
       "      <td>2009-04-06 22:19:53</td>\n",
       "      <td>NO_QUERY</td>\n",
       "      <td>mattycus</td>\n",
       "      <td>@Kenichan I dived many times for the ball. Managed to save 50%  The rest go out of bounds</td>\n",
       "    </tr>\n",
       "    <tr>\n",
       "      <th>3</th>\n",
       "      <td>0</td>\n",
       "      <td>1467811184</td>\n",
       "      <td>2009-04-06 22:19:57</td>\n",
       "      <td>NO_QUERY</td>\n",
       "      <td>ElleCTF</td>\n",
       "      <td>my whole body feels itchy and like its on fire</td>\n",
       "    </tr>\n",
       "    <tr>\n",
       "      <th>4</th>\n",
       "      <td>0</td>\n",
       "      <td>1467811193</td>\n",
       "      <td>2009-04-06 22:19:57</td>\n",
       "      <td>NO_QUERY</td>\n",
       "      <td>Karoli</td>\n",
       "      <td>@nationwideclass no, it's not behaving at all. i'm mad. why am i here? because I can't see you all over there.</td>\n",
       "    </tr>\n",
       "  </tbody>\n",
       "</table>\n",
       "</div>"
      ],
      "text/plain": [
       "   sentiment          id                date      flag             user  \\\n",
       "0          0  1467810369 2009-04-06 22:19:45  NO_QUERY  _TheSpecialOne_   \n",
       "1          0  1467810672 2009-04-06 22:19:49  NO_QUERY    scotthamilton   \n",
       "2          0  1467810917 2009-04-06 22:19:53  NO_QUERY         mattycus   \n",
       "3          0  1467811184 2009-04-06 22:19:57  NO_QUERY          ElleCTF   \n",
       "4          0  1467811193 2009-04-06 22:19:57  NO_QUERY           Karoli   \n",
       "\n",
       "                                                                                                                 tweet  \n",
       "0  @switchfoot http://twitpic.com/2y1zl - Awww, that's a bummer.  You shoulda got David Carr of Third Day to do it. ;D  \n",
       "1      is upset that he can't update his Facebook by texting it... and might cry as a result  School today also. Blah!  \n",
       "2                            @Kenichan I dived many times for the ball. Managed to save 50%  The rest go out of bounds  \n",
       "3                                                                      my whole body feels itchy and like its on fire   \n",
       "4      @nationwideclass no, it's not behaving at all. i'm mad. why am i here? because I can't see you all over there.   "
      ]
     },
     "execution_count": 3,
     "metadata": {},
     "output_type": "execute_result"
    }
   ],
   "source": [
    "pd.options.display.max_colwidth = None\n",
    "\n",
    "# Load Dataset into Dataframe\n",
    "df = pd.read_csv(TRAIN_DATA_NAME,\n",
    "                 encoding=ENCODING,\n",
    "                 header=None,\n",
    "                 names=TRAIN_COLUMN_NAMES,\n",
    "                 nrows=NROWS,\n",
    "                 parse_dates=['date'])\n",
    "df.head(5)"
   ]
  },
  {
   "cell_type": "markdown",
   "metadata": {
    "id": "YO4s8YJQB5XA"
   },
   "source": [
    "## Train Data EDA"
   ]
  },
  {
   "cell_type": "code",
   "execution_count": 4,
   "metadata": {
    "colab": {
     "base_uri": "https://localhost:8080/"
    },
    "id": "FwzchH6rCoYS",
    "outputId": "7a1bf85c-3ecd-4e49-dac4-99a843a146db"
   },
   "outputs": [
    {
     "name": "stdout",
     "output_type": "stream",
     "text": [
      "<class 'pandas.core.frame.DataFrame'>\n",
      "RangeIndex: 1600000 entries, 0 to 1599999\n",
      "Data columns (total 6 columns):\n",
      " #   Column     Non-Null Count    Dtype         \n",
      "---  ------     --------------    -----         \n",
      " 0   sentiment  1600000 non-null  int64         \n",
      " 1   id         1600000 non-null  int64         \n",
      " 2   date       1600000 non-null  datetime64[ns]\n",
      " 3   flag       1600000 non-null  object        \n",
      " 4   user       1600000 non-null  object        \n",
      " 5   tweet      1600000 non-null  object        \n",
      "dtypes: datetime64[ns](1), int64(2), object(3)\n",
      "memory usage: 73.2+ MB\n"
     ]
    }
   ],
   "source": [
    "# General Info about Dataset\n",
    "df.info()"
   ]
  },
  {
   "cell_type": "markdown",
   "metadata": {
    "id": "bSpyhyyMGT2X"
   },
   "source": [
    "#### Sentiment column"
   ]
  },
  {
   "cell_type": "code",
   "execution_count": 5,
   "metadata": {
    "colab": {
     "base_uri": "https://localhost:8080/",
     "height": 178
    },
    "id": "VnH4skR7Dlrw",
    "outputId": "9261ad34-3dca-4856-8f55-9ddd3cbfe0b0"
   },
   "outputs": [
    {
     "data": {
      "text/plain": [
       "sentiment\n",
       "0    800000\n",
       "4    800000\n",
       "Name: count, dtype: int64"
      ]
     },
     "execution_count": 5,
     "metadata": {},
     "output_type": "execute_result"
    }
   ],
   "source": [
    "df.sentiment.value_counts()"
   ]
  },
  {
   "cell_type": "markdown",
   "metadata": {
    "id": "8_6XiGY8Gsck"
   },
   "source": [
    "#### id column"
   ]
  },
  {
   "cell_type": "code",
   "execution_count": 6,
   "metadata": {
    "colab": {
     "base_uri": "https://localhost:8080/",
     "height": 428
    },
    "id": "r2oPCD6tGuim",
    "outputId": "9cbfb049-a801-4ae4-bdb3-d2be0d9c81f9"
   },
   "outputs": [
    {
     "name": "stdout",
     "output_type": "stream",
     "text": [
      "id\n",
      "2190457769    2\n",
      "1972193428    2\n",
      "1989776729    2\n",
      "1989776908    2\n",
      "1564543229    2\n",
      "             ..\n",
      "2197311196    1\n",
      "2197311146    1\n",
      "2197310899    1\n",
      "2197310477    1\n",
      "2193602129    1\n",
      "Name: count, Length: 1598315, dtype: int64\n",
      "Number of ids with 2 entries:  1685\n"
     ]
    },
    {
     "data": {
      "text/html": [
       "<div>\n",
       "<style scoped>\n",
       "    .dataframe tbody tr th:only-of-type {\n",
       "        vertical-align: middle;\n",
       "    }\n",
       "\n",
       "    .dataframe tbody tr th {\n",
       "        vertical-align: top;\n",
       "    }\n",
       "\n",
       "    .dataframe thead th {\n",
       "        text-align: right;\n",
       "    }\n",
       "</style>\n",
       "<table border=\"1\" class=\"dataframe\">\n",
       "  <thead>\n",
       "    <tr style=\"text-align: right;\">\n",
       "      <th></th>\n",
       "      <th>sentiment</th>\n",
       "      <th>id</th>\n",
       "      <th>date</th>\n",
       "      <th>flag</th>\n",
       "      <th>user</th>\n",
       "      <th>tweet</th>\n",
       "    </tr>\n",
       "  </thead>\n",
       "  <tbody>\n",
       "    <tr>\n",
       "      <th>270201</th>\n",
       "      <td>0</td>\n",
       "      <td>1989776729</td>\n",
       "      <td>2009-06-01 02:46:20</td>\n",
       "      <td>NO_QUERY</td>\n",
       "      <td>mam1cutie</td>\n",
       "      <td>@Dog_Crazy Sorry yest was bad day for your mom!   I hope today is a better day for her!  I gotta go get ready for work - blah. lol</td>\n",
       "    </tr>\n",
       "    <tr>\n",
       "      <th>1217853</th>\n",
       "      <td>4</td>\n",
       "      <td>1989776729</td>\n",
       "      <td>2009-06-01 02:46:20</td>\n",
       "      <td>NO_QUERY</td>\n",
       "      <td>mam1cutie</td>\n",
       "      <td>@Dog_Crazy Sorry yest was bad day for your mom!   I hope today is a better day for her!  I gotta go get ready for work - blah. lol</td>\n",
       "    </tr>\n",
       "  </tbody>\n",
       "</table>\n",
       "</div>"
      ],
      "text/plain": [
       "         sentiment          id                date      flag       user  \\\n",
       "270201           0  1989776729 2009-06-01 02:46:20  NO_QUERY  mam1cutie   \n",
       "1217853          4  1989776729 2009-06-01 02:46:20  NO_QUERY  mam1cutie   \n",
       "\n",
       "                                                                                                                                       tweet  \n",
       "270201   @Dog_Crazy Sorry yest was bad day for your mom!   I hope today is a better day for her!  I gotta go get ready for work - blah. lol   \n",
       "1217853  @Dog_Crazy Sorry yest was bad day for your mom!   I hope today is a better day for her!  I gotta go get ready for work - blah. lol   "
      ]
     },
     "execution_count": 6,
     "metadata": {},
     "output_type": "execute_result"
    }
   ],
   "source": [
    "print(df.id.value_counts())\n",
    "\n",
    "# Number of ids with 2 entries\n",
    "print('Number of ids with 2 entries: ', len(df.id.value_counts().reset_index()[df.id.value_counts().reset_index()['count'] > 1]))\n",
    "\n",
    "# Example of one such id\n",
    "df[df['id'] == 1989776729]"
   ]
  },
  {
   "cell_type": "markdown",
   "metadata": {
    "id": "dN9Z2sSV4kTV"
   },
   "source": [
    "=> There are some duplicate tweets with different sentiments."
   ]
  },
  {
   "cell_type": "markdown",
   "metadata": {
    "id": "T3c-srBEGZ29"
   },
   "source": [
    "#### Date column"
   ]
  },
  {
   "cell_type": "code",
   "execution_count": 7,
   "metadata": {
    "colab": {
     "base_uri": "https://localhost:8080/"
    },
    "id": "_IvtqnVZDWk1",
    "outputId": "ee91459c-54c9-4599-f9f1-faab51006998"
   },
   "outputs": [
    {
     "data": {
      "text/plain": [
       "dtype('<M8[ns]')"
      ]
     },
     "execution_count": 7,
     "metadata": {},
     "output_type": "execute_result"
    }
   ],
   "source": [
    "df.date.dtype"
   ]
  },
  {
   "cell_type": "code",
   "execution_count": 8,
   "metadata": {
    "id": "PsN1ZBokDch0"
   },
   "outputs": [],
   "source": [
    "# Change date format and shift to UTF time\n",
    "df.date = df.date.apply(lambda date : date.tz_localize(tz='US/Pacific').tz_convert('UTC'))"
   ]
  },
  {
   "cell_type": "code",
   "execution_count": 9,
   "metadata": {
    "colab": {
     "base_uri": "https://localhost:8080/",
     "height": 534
    },
    "id": "7_4QPqHWFEI2",
    "outputId": "f18001b1-4546-403f-d882-b13af3cf79a3"
   },
   "outputs": [
    {
     "data": {
      "text/plain": [
       "<Axes: xlabel='date'>"
      ]
     },
     "execution_count": 9,
     "metadata": {},
     "output_type": "execute_result"
    },
    {
     "data": {
      "image/png": "[encoded data removed]",
      "text/plain": [
       "<Figure size 640x480 with 1 Axes>"
      ]
     },
     "metadata": {},
     "output_type": "display_data"
    }
   ],
   "source": [
    "# Plot the number of tweets per date\n",
    "df.tweet.groupby(df.date.dt.date).count().plot(kind='bar')"
   ]
  },
  {
   "cell_type": "markdown",
   "metadata": {
    "id": "6KZb_ME4K4jz"
   },
   "source": [
    "#### flag column"
   ]
  },
  {
   "cell_type": "code",
   "execution_count": 10,
   "metadata": {
    "colab": {
     "base_uri": "https://localhost:8080/",
     "height": 147
    },
    "id": "UwAy7JcpK613",
    "outputId": "526020b8-8bed-48a5-e385-a0a9b3188da7"
   },
   "outputs": [
    {
     "data": {
      "text/plain": [
       "flag\n",
       "NO_QUERY    1600000\n",
       "Name: count, dtype: int64"
      ]
     },
     "execution_count": 10,
     "metadata": {},
     "output_type": "execute_result"
    }
   ],
   "source": [
    "df.flag.value_counts()"
   ]
  },
  {
   "cell_type": "markdown",
   "metadata": {
    "id": "OYc1-PNvLEJS"
   },
   "source": [
    "#### user column"
   ]
  },
  {
   "cell_type": "code",
   "execution_count": 11,
   "metadata": {
    "colab": {
     "base_uri": "https://localhost:8080/",
     "height": 490
    },
    "id": "1FEFhYYILHqY",
    "outputId": "a3410ee6-f14c-4597-f31f-73d90eb4995a"
   },
   "outputs": [
    {
     "data": {
      "text/plain": [
       "user\n",
       "lost_dog           549\n",
       "webwoke            345\n",
       "tweetpet           310\n",
       "SallytheShizzle    281\n",
       "VioletsCRUK        279\n",
       "                  ... \n",
       "67trinity            1\n",
       "Sibby                1\n",
       "mAnyA_15             1\n",
       "49ersfan111          1\n",
       "bpbabe               1\n",
       "Name: count, Length: 659775, dtype: int64"
      ]
     },
     "execution_count": 11,
     "metadata": {},
     "output_type": "execute_result"
    }
   ],
   "source": [
    "df.user.value_counts()"
   ]
  },
  {
   "cell_type": "markdown",
   "metadata": {
    "id": "acDmFUrMLTo8"
   },
   "source": [
    "#### tweet column"
   ]
  },
  {
   "cell_type": "code",
   "execution_count": 12,
   "metadata": {
    "colab": {
     "base_uri": "https://localhost:8080/",
     "height": 490
    },
    "id": "Ib5R8wBgLV0W",
    "outputId": "a999240c-623e-4e41-d1a1-a9d2768a5567"
   },
   "outputs": [
    {
     "data": {
      "text/plain": [
       "tweet\n",
       "isPlayer Has Died! Sorry                                                                              210\n",
       "good morning                                                                                          118\n",
       "headache                                                                                              115\n",
       "Good morning                                                                                          112\n",
       "Headache                                                                                              106\n",
       "                                                                                                     ... \n",
       "braces  tell me it will be okay...                                                                      1\n",
       "is stuck at home without curry                                                                          1\n",
       "@mrsduryee I've applied to about 70 since I lost my job in March...it certainly FEELS like a lot!       1\n",
       "The cheese I got @SarawithanR lost its squeak                                                           1\n",
       "happy #charitytuesday @theNSPCC @SparksCharity @SpeakingUpH4H                                           1\n",
       "Name: count, Length: 1581466, dtype: int64"
      ]
     },
     "execution_count": 12,
     "metadata": {},
     "output_type": "execute_result"
    }
   ],
   "source": [
    "df.tweet.value_counts()"
   ]
  },
  {
   "cell_type": "code",
   "execution_count": 13,
   "metadata": {
    "colab": {
     "base_uri": "https://localhost:8080/",
     "height": 441
    },
    "id": "o6Z6eRoVLhy5",
    "outputId": "acfbd09a-031f-4f8e-ed16-a0ea4b35ff51"
   },
   "outputs": [
    {
     "data": {
      "text/html": [
       "<div>\n",
       "<style scoped>\n",
       "    .dataframe tbody tr th:only-of-type {\n",
       "        vertical-align: middle;\n",
       "    }\n",
       "\n",
       "    .dataframe tbody tr th {\n",
       "        vertical-align: top;\n",
       "    }\n",
       "\n",
       "    .dataframe thead th {\n",
       "        text-align: right;\n",
       "    }\n",
       "</style>\n",
       "<table border=\"1\" class=\"dataframe\">\n",
       "  <thead>\n",
       "    <tr style=\"text-align: right;\">\n",
       "      <th></th>\n",
       "      <th>tweet</th>\n",
       "      <th>count</th>\n",
       "    </tr>\n",
       "  </thead>\n",
       "  <tbody>\n",
       "    <tr>\n",
       "      <th>2284</th>\n",
       "      <td>tomorrow i prepare to fail  I don't understand any of it can't wait until its ok though</td>\n",
       "      <td>2</td>\n",
       "    </tr>\n",
       "    <tr>\n",
       "      <th>2285</th>\n",
       "      <td>@ddlovato hey demi! Say hi to me! Please??Just 1 Hi then my day will be colorfull than yesterday!</td>\n",
       "      <td>2</td>\n",
       "    </tr>\n",
       "    <tr>\n",
       "      <th>2286</th>\n",
       "      <td>I have a chocolate soy milk problem.</td>\n",
       "      <td>2</td>\n",
       "    </tr>\n",
       "    <tr>\n",
       "      <th>2287</th>\n",
       "      <td>bored out my mind</td>\n",
       "      <td>2</td>\n",
       "    </tr>\n",
       "    <tr>\n",
       "      <th>2288</th>\n",
       "      <td>finally got my laptop back</td>\n",
       "      <td>2</td>\n",
       "    </tr>\n",
       "    <tr>\n",
       "      <th>...</th>\n",
       "      <td>...</td>\n",
       "      <td>...</td>\n",
       "    </tr>\n",
       "    <tr>\n",
       "      <th>8429</th>\n",
       "      <td>trying to figure this twitter thing out</td>\n",
       "      <td>2</td>\n",
       "    </tr>\n",
       "    <tr>\n",
       "      <th>8430</th>\n",
       "      <td>@shinzofukui</td>\n",
       "      <td>2</td>\n",
       "    </tr>\n",
       "    <tr>\n",
       "      <th>8431</th>\n",
       "      <td>I want breakfast</td>\n",
       "      <td>2</td>\n",
       "    </tr>\n",
       "    <tr>\n",
       "      <th>8432</th>\n",
       "      <td>@Knot2serious Loving a GR8 wkend here in Sedona! Beautiful, even though I had to work on my house  How are U? Dont kick them 2 hard</td>\n",
       "      <td>2</td>\n",
       "    </tr>\n",
       "    <tr>\n",
       "      <th>8433</th>\n",
       "      <td>I saw the New Moon Trailer/Preview a few hours and minutes ago! It was great! I can't wait to watch New Moon this year!</td>\n",
       "      <td>2</td>\n",
       "    </tr>\n",
       "  </tbody>\n",
       "</table>\n",
       "<p>6150 rows × 2 columns</p>\n",
       "</div>"
      ],
      "text/plain": [
       "                                                                                                                                     tweet  \\\n",
       "2284                                              tomorrow i prepare to fail  I don't understand any of it can't wait until its ok though    \n",
       "2285                                    @ddlovato hey demi! Say hi to me! Please??Just 1 Hi then my day will be colorfull than yesterday!    \n",
       "2286                                                                                                 I have a chocolate soy milk problem.    \n",
       "2287                                                                                                                    bored out my mind    \n",
       "2288                                                                                                           finally got my laptop back    \n",
       "...                                                                                                                                    ...   \n",
       "8429                                                                                              trying to figure this twitter thing out    \n",
       "8430                                                                                                                         @shinzofukui    \n",
       "8431                                                                                                                     I want breakfast    \n",
       "8432  @Knot2serious Loving a GR8 wkend here in Sedona! Beautiful, even though I had to work on my house  How are U? Dont kick them 2 hard    \n",
       "8433             I saw the New Moon Trailer/Preview a few hours and minutes ago! It was great! I can't wait to watch New Moon this year!     \n",
       "\n",
       "      count  \n",
       "2284      2  \n",
       "2285      2  \n",
       "2286      2  \n",
       "2287      2  \n",
       "2288      2  \n",
       "...     ...  \n",
       "8429      2  \n",
       "8430      2  \n",
       "8431      2  \n",
       "8432      2  \n",
       "8433      2  \n",
       "\n",
       "[6150 rows x 2 columns]"
      ]
     },
     "execution_count": 13,
     "metadata": {},
     "output_type": "execute_result"
    }
   ],
   "source": [
    "# How many tweets are there exactly twice?\n",
    "df.tweet.value_counts().reset_index()[(df.tweet.value_counts().reset_index()['count'] > 1) & (df.tweet.value_counts().reset_index()['count'] < 3)]"
   ]
  },
  {
   "cell_type": "code",
   "execution_count": 14,
   "metadata": {},
   "outputs": [
    {
     "data": {
      "text/html": [
       "<div>\n",
       "<style scoped>\n",
       "    .dataframe tbody tr th:only-of-type {\n",
       "        vertical-align: middle;\n",
       "    }\n",
       "\n",
       "    .dataframe tbody tr th {\n",
       "        vertical-align: top;\n",
       "    }\n",
       "\n",
       "    .dataframe thead th {\n",
       "        text-align: right;\n",
       "    }\n",
       "</style>\n",
       "<table border=\"1\" class=\"dataframe\">\n",
       "  <thead>\n",
       "    <tr style=\"text-align: right;\">\n",
       "      <th></th>\n",
       "      <th>sentiment</th>\n",
       "      <th>tweet</th>\n",
       "    </tr>\n",
       "  </thead>\n",
       "  <tbody>\n",
       "    <tr>\n",
       "      <th>0</th>\n",
       "      <td>0</td>\n",
       "      <td>@switchfoot http://twitpic.com/2y1zl - Awww, that's a bummer.  You shoulda got David Carr of Third Day to do it. ;D</td>\n",
       "    </tr>\n",
       "    <tr>\n",
       "      <th>1</th>\n",
       "      <td>0</td>\n",
       "      <td>is upset that he can't update his Facebook by texting it... and might cry as a result  School today also. Blah!</td>\n",
       "    </tr>\n",
       "    <tr>\n",
       "      <th>2</th>\n",
       "      <td>0</td>\n",
       "      <td>@Kenichan I dived many times for the ball. Managed to save 50%  The rest go out of bounds</td>\n",
       "    </tr>\n",
       "    <tr>\n",
       "      <th>3</th>\n",
       "      <td>0</td>\n",
       "      <td>my whole body feels itchy and like its on fire</td>\n",
       "    </tr>\n",
       "    <tr>\n",
       "      <th>4</th>\n",
       "      <td>0</td>\n",
       "      <td>@nationwideclass no, it's not behaving at all. i'm mad. why am i here? because I can't see you all over there.</td>\n",
       "    </tr>\n",
       "    <tr>\n",
       "      <th>...</th>\n",
       "      <td>...</td>\n",
       "      <td>...</td>\n",
       "    </tr>\n",
       "    <tr>\n",
       "      <th>1599995</th>\n",
       "      <td>4</td>\n",
       "      <td>Just woke up. Having no school is the best feeling ever</td>\n",
       "    </tr>\n",
       "    <tr>\n",
       "      <th>1599996</th>\n",
       "      <td>4</td>\n",
       "      <td>TheWDB.com - Very cool to hear old Walt interviews!  â« http://blip.fm/~8bmta</td>\n",
       "    </tr>\n",
       "    <tr>\n",
       "      <th>1599997</th>\n",
       "      <td>4</td>\n",
       "      <td>Are you ready for your MoJo Makeover? Ask me for details</td>\n",
       "    </tr>\n",
       "    <tr>\n",
       "      <th>1599998</th>\n",
       "      <td>4</td>\n",
       "      <td>Happy 38th Birthday to my boo of alll time!!! Tupac Amaru Shakur</td>\n",
       "    </tr>\n",
       "    <tr>\n",
       "      <th>1599999</th>\n",
       "      <td>4</td>\n",
       "      <td>happy #charitytuesday @theNSPCC @SparksCharity @SpeakingUpH4H</td>\n",
       "    </tr>\n",
       "  </tbody>\n",
       "</table>\n",
       "<p>1600000 rows × 2 columns</p>\n",
       "</div>"
      ],
      "text/plain": [
       "         sentiment  \\\n",
       "0                0   \n",
       "1                0   \n",
       "2                0   \n",
       "3                0   \n",
       "4                0   \n",
       "...            ...   \n",
       "1599995          4   \n",
       "1599996          4   \n",
       "1599997          4   \n",
       "1599998          4   \n",
       "1599999          4   \n",
       "\n",
       "                                                                                                                       tweet  \n",
       "0        @switchfoot http://twitpic.com/2y1zl - Awww, that's a bummer.  You shoulda got David Carr of Third Day to do it. ;D  \n",
       "1            is upset that he can't update his Facebook by texting it... and might cry as a result  School today also. Blah!  \n",
       "2                                  @Kenichan I dived many times for the ball. Managed to save 50%  The rest go out of bounds  \n",
       "3                                                                            my whole body feels itchy and like its on fire   \n",
       "4            @nationwideclass no, it's not behaving at all. i'm mad. why am i here? because I can't see you all over there.   \n",
       "...                                                                                                                      ...  \n",
       "1599995                                                             Just woke up. Having no school is the best feeling ever   \n",
       "1599996                                       TheWDB.com - Very cool to hear old Walt interviews!  â« http://blip.fm/~8bmta  \n",
       "1599997                                                            Are you ready for your MoJo Makeover? Ask me for details   \n",
       "1599998                                                    Happy 38th Birthday to my boo of alll time!!! Tupac Amaru Shakur   \n",
       "1599999                                                       happy #charitytuesday @theNSPCC @SparksCharity @SpeakingUpH4H   \n",
       "\n",
       "[1600000 rows x 2 columns]"
      ]
     },
     "execution_count": 14,
     "metadata": {},
     "output_type": "execute_result"
    }
   ],
   "source": [
    "# unnötige Spalten löschen\n",
    "df.drop(columns=['id', 'date', 'flag', 'user'], inplace=True)\n",
    "df"
   ]
  },
  {
   "cell_type": "code",
   "execution_count": 15,
   "metadata": {},
   "outputs": [],
   "source": [
    "df.to_csv('sentiment140/sentiment140_training.csv', index=False)"
   ]
  },
  {
   "cell_type": "markdown",
   "metadata": {},
   "source": [
    "## Test Datensatz"
   ]
  },
  {
   "cell_type": "code",
   "execution_count": 16,
   "metadata": {},
   "outputs": [
    {
     "data": {
      "text/html": [
       "<div>\n",
       "<style scoped>\n",
       "    .dataframe tbody tr th:only-of-type {\n",
       "        vertical-align: middle;\n",
       "    }\n",
       "\n",
       "    .dataframe tbody tr th {\n",
       "        vertical-align: top;\n",
       "    }\n",
       "\n",
       "    .dataframe thead th {\n",
       "        text-align: right;\n",
       "    }\n",
       "</style>\n",
       "<table border=\"1\" class=\"dataframe\">\n",
       "  <thead>\n",
       "    <tr style=\"text-align: right;\">\n",
       "      <th></th>\n",
       "      <th>sentiment</th>\n",
       "      <th>id</th>\n",
       "      <th>date</th>\n",
       "      <th>query</th>\n",
       "      <th>user</th>\n",
       "      <th>tweets</th>\n",
       "    </tr>\n",
       "  </thead>\n",
       "  <tbody>\n",
       "    <tr>\n",
       "      <th>0</th>\n",
       "      <td>4</td>\n",
       "      <td>3</td>\n",
       "      <td>Mon May 11 03:17:40 UTC 2009</td>\n",
       "      <td>kindle2</td>\n",
       "      <td>tpryan</td>\n",
       "      <td>@stellargirl I loooooooovvvvvveee my Kindle2. Not that the DX is cool, but the 2 is fantastic in its own right.</td>\n",
       "    </tr>\n",
       "    <tr>\n",
       "      <th>1</th>\n",
       "      <td>4</td>\n",
       "      <td>4</td>\n",
       "      <td>Mon May 11 03:18:03 UTC 2009</td>\n",
       "      <td>kindle2</td>\n",
       "      <td>vcu451</td>\n",
       "      <td>Reading my kindle2...  Love it... Lee childs is good read.</td>\n",
       "    </tr>\n",
       "    <tr>\n",
       "      <th>2</th>\n",
       "      <td>4</td>\n",
       "      <td>5</td>\n",
       "      <td>Mon May 11 03:18:54 UTC 2009</td>\n",
       "      <td>kindle2</td>\n",
       "      <td>chadfu</td>\n",
       "      <td>Ok, first assesment of the #kindle2 ...it fucking rocks!!!</td>\n",
       "    </tr>\n",
       "    <tr>\n",
       "      <th>3</th>\n",
       "      <td>4</td>\n",
       "      <td>6</td>\n",
       "      <td>Mon May 11 03:19:04 UTC 2009</td>\n",
       "      <td>kindle2</td>\n",
       "      <td>SIX15</td>\n",
       "      <td>@kenburbary You'll love your Kindle2. I've had mine for a few months and never looked back. The new big one is huge! No need for remorse! :)</td>\n",
       "    </tr>\n",
       "    <tr>\n",
       "      <th>4</th>\n",
       "      <td>4</td>\n",
       "      <td>7</td>\n",
       "      <td>Mon May 11 03:21:41 UTC 2009</td>\n",
       "      <td>kindle2</td>\n",
       "      <td>yamarama</td>\n",
       "      <td>@mikefish  Fair enough. But i have the Kindle2 and I think it's perfect  :)</td>\n",
       "    </tr>\n",
       "  </tbody>\n",
       "</table>\n",
       "</div>"
      ],
      "text/plain": [
       "   sentiment  id                          date    query      user  \\\n",
       "0          4   3  Mon May 11 03:17:40 UTC 2009  kindle2    tpryan   \n",
       "1          4   4  Mon May 11 03:18:03 UTC 2009  kindle2    vcu451   \n",
       "2          4   5  Mon May 11 03:18:54 UTC 2009  kindle2    chadfu   \n",
       "3          4   6  Mon May 11 03:19:04 UTC 2009  kindle2     SIX15   \n",
       "4          4   7  Mon May 11 03:21:41 UTC 2009  kindle2  yamarama   \n",
       "\n",
       "                                                                                                                                         tweets  \n",
       "0                               @stellargirl I loooooooovvvvvveee my Kindle2. Not that the DX is cool, but the 2 is fantastic in its own right.  \n",
       "1                                                                                    Reading my kindle2...  Love it... Lee childs is good read.  \n",
       "2                                                                                    Ok, first assesment of the #kindle2 ...it fucking rocks!!!  \n",
       "3  @kenburbary You'll love your Kindle2. I've had mine for a few months and never looked back. The new big one is huge! No need for remorse! :)  \n",
       "4                                                                   @mikefish  Fair enough. But i have the Kindle2 and I think it's perfect  :)  "
      ]
     },
     "execution_count": 16,
     "metadata": {},
     "output_type": "execute_result"
    }
   ],
   "source": [
    "# Constants\n",
    "TEST_DATA_NAME = 'sentiment140/testdata.manual.2009.06.14.csv'\n",
    "TEST_COLUMN_NAMES = ['sentiment', 'id', 'date', 'query', 'user', 'tweets']\n",
    "\n",
    "ENCODING = 'latin-1'\n",
    "NROWS = 1600000\n",
    "\n",
    "test_df = pd.read_csv(TEST_DATA_NAME,\n",
    "                 encoding=ENCODING,\n",
    "                 header=None,\n",
    "                 names=TEST_COLUMN_NAMES,\n",
    "                 nrows=NROWS,\n",
    "                 parse_dates=['date'])\n",
    "test_df.head(5)"
   ]
  },
  {
   "cell_type": "markdown",
   "metadata": {},
   "source": [
    "#### EDA Test Datensatz"
   ]
  },
  {
   "cell_type": "code",
   "execution_count": 17,
   "metadata": {},
   "outputs": [
    {
     "name": "stdout",
     "output_type": "stream",
     "text": [
      "<class 'pandas.core.frame.DataFrame'>\n",
      "RangeIndex: 498 entries, 0 to 497\n",
      "Data columns (total 6 columns):\n",
      " #   Column     Non-Null Count  Dtype \n",
      "---  ------     --------------  ----- \n",
      " 0   sentiment  498 non-null    int64 \n",
      " 1   id         498 non-null    int64 \n",
      " 2   date       498 non-null    object\n",
      " 3   query      498 non-null    object\n",
      " 4   user       498 non-null    object\n",
      " 5   tweets     498 non-null    object\n",
      "dtypes: int64(2), object(4)\n",
      "memory usage: 23.5+ KB\n"
     ]
    }
   ],
   "source": [
    "test_df.info()"
   ]
  },
  {
   "cell_type": "markdown",
   "metadata": {},
   "source": [
    "#### Sentiment column\n",
    "\n",
    "Sentiment codierung:\n",
    "- 0: Negative\n",
    "- 2: Neutral\n",
    "- 4: Positive"
   ]
  },
  {
   "cell_type": "code",
   "execution_count": 18,
   "metadata": {},
   "outputs": [
    {
     "data": {
      "text/plain": [
       "sentiment\n",
       "4    182\n",
       "0    177\n",
       "2    139\n",
       "Name: count, dtype: int64"
      ]
     },
     "execution_count": 18,
     "metadata": {},
     "output_type": "execute_result"
    }
   ],
   "source": [
    "test_df.sentiment.value_counts()"
   ]
  },
  {
   "cell_type": "markdown",
   "metadata": {},
   "source": [
    "Der Trainingsdatensatz enthält keine Datensätze mit sentiment = 2, somit löschen wir diese Datensätze."
   ]
  },
  {
   "cell_type": "code",
   "execution_count": 19,
   "metadata": {},
   "outputs": [
    {
     "data": {
      "text/html": [
       "<div>\n",
       "<style scoped>\n",
       "    .dataframe tbody tr th:only-of-type {\n",
       "        vertical-align: middle;\n",
       "    }\n",
       "\n",
       "    .dataframe tbody tr th {\n",
       "        vertical-align: top;\n",
       "    }\n",
       "\n",
       "    .dataframe thead th {\n",
       "        text-align: right;\n",
       "    }\n",
       "</style>\n",
       "<table border=\"1\" class=\"dataframe\">\n",
       "  <thead>\n",
       "    <tr style=\"text-align: right;\">\n",
       "      <th></th>\n",
       "      <th>sentiment</th>\n",
       "      <th>id</th>\n",
       "      <th>date</th>\n",
       "      <th>query</th>\n",
       "      <th>user</th>\n",
       "      <th>tweets</th>\n",
       "    </tr>\n",
       "  </thead>\n",
       "  <tbody>\n",
       "    <tr>\n",
       "      <th>0</th>\n",
       "      <td>4</td>\n",
       "      <td>3</td>\n",
       "      <td>Mon May 11 03:17:40 UTC 2009</td>\n",
       "      <td>kindle2</td>\n",
       "      <td>tpryan</td>\n",
       "      <td>@stellargirl I loooooooovvvvvveee my Kindle2. Not that the DX is cool, but the 2 is fantastic in its own right.</td>\n",
       "    </tr>\n",
       "    <tr>\n",
       "      <th>1</th>\n",
       "      <td>4</td>\n",
       "      <td>4</td>\n",
       "      <td>Mon May 11 03:18:03 UTC 2009</td>\n",
       "      <td>kindle2</td>\n",
       "      <td>vcu451</td>\n",
       "      <td>Reading my kindle2...  Love it... Lee childs is good read.</td>\n",
       "    </tr>\n",
       "    <tr>\n",
       "      <th>2</th>\n",
       "      <td>4</td>\n",
       "      <td>5</td>\n",
       "      <td>Mon May 11 03:18:54 UTC 2009</td>\n",
       "      <td>kindle2</td>\n",
       "      <td>chadfu</td>\n",
       "      <td>Ok, first assesment of the #kindle2 ...it fucking rocks!!!</td>\n",
       "    </tr>\n",
       "    <tr>\n",
       "      <th>3</th>\n",
       "      <td>4</td>\n",
       "      <td>6</td>\n",
       "      <td>Mon May 11 03:19:04 UTC 2009</td>\n",
       "      <td>kindle2</td>\n",
       "      <td>SIX15</td>\n",
       "      <td>@kenburbary You'll love your Kindle2. I've had mine for a few months and never looked back. The new big one is huge! No need for remorse! :)</td>\n",
       "    </tr>\n",
       "    <tr>\n",
       "      <th>4</th>\n",
       "      <td>4</td>\n",
       "      <td>7</td>\n",
       "      <td>Mon May 11 03:21:41 UTC 2009</td>\n",
       "      <td>kindle2</td>\n",
       "      <td>yamarama</td>\n",
       "      <td>@mikefish  Fair enough. But i have the Kindle2 and I think it's perfect  :)</td>\n",
       "    </tr>\n",
       "    <tr>\n",
       "      <th>...</th>\n",
       "      <td>...</td>\n",
       "      <td>...</td>\n",
       "      <td>...</td>\n",
       "      <td>...</td>\n",
       "      <td>...</td>\n",
       "      <td>...</td>\n",
       "    </tr>\n",
       "    <tr>\n",
       "      <th>492</th>\n",
       "      <td>4</td>\n",
       "      <td>14071</td>\n",
       "      <td>Sun Jun 14 04:31:28 UTC 2009</td>\n",
       "      <td>latex</td>\n",
       "      <td>yomcat</td>\n",
       "      <td>After using LaTeX a lot, any other typeset mathematics just looks hideous.</td>\n",
       "    </tr>\n",
       "    <tr>\n",
       "      <th>494</th>\n",
       "      <td>0</td>\n",
       "      <td>14073</td>\n",
       "      <td>Sun Jun 14 04:32:17 UTC 2009</td>\n",
       "      <td>latex</td>\n",
       "      <td>sam33r</td>\n",
       "      <td>On that note, I hate Word. I hate Pages. I hate LaTeX. There, I said it. I hate LaTeX. All you TEXN3RDS can come kill me now.</td>\n",
       "    </tr>\n",
       "    <tr>\n",
       "      <th>495</th>\n",
       "      <td>4</td>\n",
       "      <td>14074</td>\n",
       "      <td>Sun Jun 14 04:36:34 UTC 2009</td>\n",
       "      <td>latex</td>\n",
       "      <td>iamtheonlyjosie</td>\n",
       "      <td>Ahhh... back in a *real* text editing environment. I &amp;lt;3 LaTeX.</td>\n",
       "    </tr>\n",
       "    <tr>\n",
       "      <th>496</th>\n",
       "      <td>0</td>\n",
       "      <td>14075</td>\n",
       "      <td>Sun Jun 14 21:36:07 UTC 2009</td>\n",
       "      <td>iran</td>\n",
       "      <td>plutopup7</td>\n",
       "      <td>Trouble in Iran, I see. Hmm. Iran. Iran so far away. #flockofseagullsweregeopoliticallycorrect</td>\n",
       "    </tr>\n",
       "    <tr>\n",
       "      <th>497</th>\n",
       "      <td>0</td>\n",
       "      <td>14076</td>\n",
       "      <td>Sun Jun 14 21:36:17 UTC 2009</td>\n",
       "      <td>iran</td>\n",
       "      <td>captain_pete</td>\n",
       "      <td>Reading the tweets coming out of Iran... The whole thing is terrifying and incredibly sad...</td>\n",
       "    </tr>\n",
       "  </tbody>\n",
       "</table>\n",
       "<p>359 rows × 6 columns</p>\n",
       "</div>"
      ],
      "text/plain": [
       "     sentiment     id                          date    query             user  \\\n",
       "0            4      3  Mon May 11 03:17:40 UTC 2009  kindle2           tpryan   \n",
       "1            4      4  Mon May 11 03:18:03 UTC 2009  kindle2           vcu451   \n",
       "2            4      5  Mon May 11 03:18:54 UTC 2009  kindle2           chadfu   \n",
       "3            4      6  Mon May 11 03:19:04 UTC 2009  kindle2            SIX15   \n",
       "4            4      7  Mon May 11 03:21:41 UTC 2009  kindle2         yamarama   \n",
       "..         ...    ...                           ...      ...              ...   \n",
       "492          4  14071  Sun Jun 14 04:31:28 UTC 2009    latex           yomcat   \n",
       "494          0  14073  Sun Jun 14 04:32:17 UTC 2009    latex           sam33r   \n",
       "495          4  14074  Sun Jun 14 04:36:34 UTC 2009    latex  iamtheonlyjosie   \n",
       "496          0  14075  Sun Jun 14 21:36:07 UTC 2009     iran        plutopup7   \n",
       "497          0  14076  Sun Jun 14 21:36:17 UTC 2009     iran     captain_pete   \n",
       "\n",
       "                                                                                                                                           tweets  \n",
       "0                                 @stellargirl I loooooooovvvvvveee my Kindle2. Not that the DX is cool, but the 2 is fantastic in its own right.  \n",
       "1                                                                                      Reading my kindle2...  Love it... Lee childs is good read.  \n",
       "2                                                                                      Ok, first assesment of the #kindle2 ...it fucking rocks!!!  \n",
       "3    @kenburbary You'll love your Kindle2. I've had mine for a few months and never looked back. The new big one is huge! No need for remorse! :)  \n",
       "4                                                                     @mikefish  Fair enough. But i have the Kindle2 and I think it's perfect  :)  \n",
       "..                                                                                                                                            ...  \n",
       "492                                                                    After using LaTeX a lot, any other typeset mathematics just looks hideous.  \n",
       "494                 On that note, I hate Word. I hate Pages. I hate LaTeX. There, I said it. I hate LaTeX. All you TEXN3RDS can come kill me now.  \n",
       "495                                                                             Ahhh... back in a *real* text editing environment. I &lt;3 LaTeX.  \n",
       "496                                                Trouble in Iran, I see. Hmm. Iran. Iran so far away. #flockofseagullsweregeopoliticallycorrect  \n",
       "497                                                  Reading the tweets coming out of Iran... The whole thing is terrifying and incredibly sad...  \n",
       "\n",
       "[359 rows x 6 columns]"
      ]
     },
     "execution_count": 19,
     "metadata": {},
     "output_type": "execute_result"
    }
   ],
   "source": [
    "test_df.drop(test_df[test_df.sentiment == 2].index, inplace=True)\n",
    "test_df"
   ]
  },
  {
   "cell_type": "code",
   "execution_count": 20,
   "metadata": {},
   "outputs": [
    {
     "data": {
      "text/plain": [
       "sentiment\n",
       "4    0.506964\n",
       "0    0.493036\n",
       "Name: count, dtype: float64"
      ]
     },
     "execution_count": 20,
     "metadata": {},
     "output_type": "execute_result"
    }
   ],
   "source": [
    "test_df.sentiment.value_counts()/test_df.sentiment.shape[0]"
   ]
  },
  {
   "cell_type": "markdown",
   "metadata": {},
   "source": [
    "Der Datensatz ist immer noch knapp 50% positives und 50% negatives sentiment."
   ]
  },
  {
   "cell_type": "code",
   "execution_count": 21,
   "metadata": {},
   "outputs": [
    {
     "data": {
      "text/plain": [
       "(359, 6)"
      ]
     },
     "execution_count": 21,
     "metadata": {},
     "output_type": "execute_result"
    }
   ],
   "source": [
    "test_df.shape"
   ]
  },
  {
   "cell_type": "markdown",
   "metadata": {},
   "source": [
    "Der Testdatensatz enthält nur noch 359 Zeilen."
   ]
  },
  {
   "cell_type": "markdown",
   "metadata": {},
   "source": [
    "#### Tweets column"
   ]
  },
  {
   "cell_type": "code",
   "execution_count": 22,
   "metadata": {},
   "outputs": [
    {
     "data": {
      "text/plain": [
       "True"
      ]
     },
     "execution_count": 22,
     "metadata": {},
     "output_type": "execute_result"
    }
   ],
   "source": [
    "len(test_df.tweets.unique()) == test_df.shape[0]"
   ]
  },
  {
   "cell_type": "markdown",
   "metadata": {},
   "source": [
    "Es gibt keine doppelten Tweets im Testdatensatz."
   ]
  },
  {
   "cell_type": "markdown",
   "metadata": {},
   "source": [
    "#### Drop columns and Save\n",
    "Nicht gebrauchte Spalten können gelöscht werden und der resultierende DataFrame wird gepspeichert"
   ]
  },
  {
   "cell_type": "code",
   "execution_count": 23,
   "metadata": {},
   "outputs": [
    {
     "data": {
      "text/html": [
       "<div>\n",
       "<style scoped>\n",
       "    .dataframe tbody tr th:only-of-type {\n",
       "        vertical-align: middle;\n",
       "    }\n",
       "\n",
       "    .dataframe tbody tr th {\n",
       "        vertical-align: top;\n",
       "    }\n",
       "\n",
       "    .dataframe thead th {\n",
       "        text-align: right;\n",
       "    }\n",
       "</style>\n",
       "<table border=\"1\" class=\"dataframe\">\n",
       "  <thead>\n",
       "    <tr style=\"text-align: right;\">\n",
       "      <th></th>\n",
       "      <th>sentiment</th>\n",
       "      <th>tweets</th>\n",
       "    </tr>\n",
       "  </thead>\n",
       "  <tbody>\n",
       "    <tr>\n",
       "      <th>0</th>\n",
       "      <td>4</td>\n",
       "      <td>@stellargirl I loooooooovvvvvveee my Kindle2. Not that the DX is cool, but the 2 is fantastic in its own right.</td>\n",
       "    </tr>\n",
       "    <tr>\n",
       "      <th>1</th>\n",
       "      <td>4</td>\n",
       "      <td>Reading my kindle2...  Love it... Lee childs is good read.</td>\n",
       "    </tr>\n",
       "    <tr>\n",
       "      <th>2</th>\n",
       "      <td>4</td>\n",
       "      <td>Ok, first assesment of the #kindle2 ...it fucking rocks!!!</td>\n",
       "    </tr>\n",
       "    <tr>\n",
       "      <th>3</th>\n",
       "      <td>4</td>\n",
       "      <td>@kenburbary You'll love your Kindle2. I've had mine for a few months and never looked back. The new big one is huge! No need for remorse! :)</td>\n",
       "    </tr>\n",
       "    <tr>\n",
       "      <th>4</th>\n",
       "      <td>4</td>\n",
       "      <td>@mikefish  Fair enough. But i have the Kindle2 and I think it's perfect  :)</td>\n",
       "    </tr>\n",
       "    <tr>\n",
       "      <th>...</th>\n",
       "      <td>...</td>\n",
       "      <td>...</td>\n",
       "    </tr>\n",
       "    <tr>\n",
       "      <th>492</th>\n",
       "      <td>4</td>\n",
       "      <td>After using LaTeX a lot, any other typeset mathematics just looks hideous.</td>\n",
       "    </tr>\n",
       "    <tr>\n",
       "      <th>494</th>\n",
       "      <td>0</td>\n",
       "      <td>On that note, I hate Word. I hate Pages. I hate LaTeX. There, I said it. I hate LaTeX. All you TEXN3RDS can come kill me now.</td>\n",
       "    </tr>\n",
       "    <tr>\n",
       "      <th>495</th>\n",
       "      <td>4</td>\n",
       "      <td>Ahhh... back in a *real* text editing environment. I &amp;lt;3 LaTeX.</td>\n",
       "    </tr>\n",
       "    <tr>\n",
       "      <th>496</th>\n",
       "      <td>0</td>\n",
       "      <td>Trouble in Iran, I see. Hmm. Iran. Iran so far away. #flockofseagullsweregeopoliticallycorrect</td>\n",
       "    </tr>\n",
       "    <tr>\n",
       "      <th>497</th>\n",
       "      <td>0</td>\n",
       "      <td>Reading the tweets coming out of Iran... The whole thing is terrifying and incredibly sad...</td>\n",
       "    </tr>\n",
       "  </tbody>\n",
       "</table>\n",
       "<p>359 rows × 2 columns</p>\n",
       "</div>"
      ],
      "text/plain": [
       "     sentiment  \\\n",
       "0            4   \n",
       "1            4   \n",
       "2            4   \n",
       "3            4   \n",
       "4            4   \n",
       "..         ...   \n",
       "492          4   \n",
       "494          0   \n",
       "495          4   \n",
       "496          0   \n",
       "497          0   \n",
       "\n",
       "                                                                                                                                           tweets  \n",
       "0                                 @stellargirl I loooooooovvvvvveee my Kindle2. Not that the DX is cool, but the 2 is fantastic in its own right.  \n",
       "1                                                                                      Reading my kindle2...  Love it... Lee childs is good read.  \n",
       "2                                                                                      Ok, first assesment of the #kindle2 ...it fucking rocks!!!  \n",
       "3    @kenburbary You'll love your Kindle2. I've had mine for a few months and never looked back. The new big one is huge! No need for remorse! :)  \n",
       "4                                                                     @mikefish  Fair enough. But i have the Kindle2 and I think it's perfect  :)  \n",
       "..                                                                                                                                            ...  \n",
       "492                                                                    After using LaTeX a lot, any other typeset mathematics just looks hideous.  \n",
       "494                 On that note, I hate Word. I hate Pages. I hate LaTeX. There, I said it. I hate LaTeX. All you TEXN3RDS can come kill me now.  \n",
       "495                                                                             Ahhh... back in a *real* text editing environment. I &lt;3 LaTeX.  \n",
       "496                                                Trouble in Iran, I see. Hmm. Iran. Iran so far away. #flockofseagullsweregeopoliticallycorrect  \n",
       "497                                                  Reading the tweets coming out of Iran... The whole thing is terrifying and incredibly sad...  \n",
       "\n",
       "[359 rows x 2 columns]"
      ]
     },
     "execution_count": 23,
     "metadata": {},
     "output_type": "execute_result"
    }
   ],
   "source": [
    "# unnötige Spalten löschen\n",
    "test_df.drop(columns=['id', 'date', 'query', 'user'], inplace=True)\n",
    "test_df"
   ]
  },
  {
   "cell_type": "code",
   "execution_count": 24,
   "metadata": {},
   "outputs": [],
   "source": [
    "test_df.to_csv('sentiment140/sentiment140_test.csv', index=False)"
   ]
  },
  {
   "cell_type": "markdown",
   "metadata": {
    "id": "27HcodIqCrIk"
   },
   "source": [
    "## Data Cleaning / Preparation"
   ]
  },
  {
   "cell_type": "markdown",
   "metadata": {
    "id": "Hr47-o_XPgfv"
   },
   "source": [
    "Remove\n",
    "- mentions,\n",
    "- hashtags,\n",
    "- URLs,\n",
    "- other special characters except \"'\"   \n",
    "\n",
    "Convert everything to lowercase"
   ]
  },
  {
   "cell_type": "code",
   "execution_count": 29,
   "metadata": {
    "id": "2opbEqGkCt2o"
   },
   "outputs": [],
   "source": [
    "def clean_tweet(tweet):\n",
    "  tweet = re.sub(r'@\\w+', '', tweet)  # Remove mentions\n",
    "  tweet = re.sub(r'#\\w+', '', tweet)  # Remove hashtags\n",
    "  tweet = re.sub(r'http\\S+', '', tweet)  # Remove URLs\n",
    "  tweet = re.sub(r'[^A-Za-z0-9\\']+', ' ', tweet)\n",
    "  return tweet.lower().strip()\n",
    "\n",
    "df['cleaned_tweet'] = df.tweet.apply(lambda x : clean_tweet(x))"
   ]
  },
  {
   "cell_type": "markdown",
   "metadata": {
    "id": "NzJmVhMx5Sa0"
   },
   "source": [
    "TODO:  letter occurring more than two times in a row -> replaced with two occurrences (e.g. huuuungry, huuuuuuungry, huuuuuuuuuungry)"
   ]
  },
  {
   "cell_type": "markdown",
   "metadata": {
    "id": "47Qg_vNTRgw_"
   },
   "source": [
    "Remove stopwords"
   ]
  },
  {
   "cell_type": "code",
   "execution_count": 30,
   "metadata": {
    "id": "1hhfiWnrRi-d"
   },
   "outputs": [],
   "source": [
    "stop_words = stopwords.words('english')"
   ]
  },
  {
   "cell_type": "code",
   "execution_count": 31,
   "metadata": {
    "id": "V_eZnSW76XN0"
   },
   "outputs": [],
   "source": [
    "#stop_words"
   ]
  },
  {
   "cell_type": "markdown",
   "metadata": {
    "id": "vv_mMBdw64sw"
   },
   "source": [
    "=> What about stopwords like \"not\"?"
   ]
  },
  {
   "cell_type": "code",
   "execution_count": 32,
   "metadata": {
    "id": "-paHIDyTRkGU"
   },
   "outputs": [],
   "source": [
    "def remove_stopwords(tweet):\n",
    "  tweet = [word for word in tweet.split() if word not in stop_words]\n",
    "  return ' '.join(tweet)\n",
    "\n",
    "df['no_stop_cleaned_tweet'] = df.cleaned_tweet.apply(lambda x : remove_stopwords(x))"
   ]
  },
  {
   "cell_type": "markdown",
   "metadata": {
    "id": "hNPUGmnNSQ8t"
   },
   "source": [
    "Tokenize the cleaned tweets (without stopwords)"
   ]
  },
  {
   "cell_type": "code",
   "execution_count": 33,
   "metadata": {
    "colab": {
     "base_uri": "https://localhost:8080/",
     "height": 458
    },
    "id": "HSHxh1AxSWkD",
    "outputId": "aa538b32-0a35-4c5d-c8d7-4a04466ce78e"
   },
   "outputs": [
    {
     "data": {
      "text/plain": [
       "0                                     [awww, that, 's, bummer, shoulda, got, david, carr, third, day]\n",
       "1          [upset, ca, n't, update, facebook, texting, might, cry, result, school, today, also, blah]\n",
       "2                                     [dived, many, times, ball, managed, save, 50, rest, go, bounds]\n",
       "3                                                             [whole, body, feels, itchy, like, fire]\n",
       "4                                                                [behaving, i, 'm, mad, ca, n't, see]\n",
       "                                                      ...                                            \n",
       "1599995                                                           [woke, school, best, feeling, ever]\n",
       "1599996                                              [thewdb, com, cool, hear, old, walt, interviews]\n",
       "1599997                                                         [ready, mojo, makeover, ask, details]\n",
       "1599998                                [happy, 38th, birthday, boo, alll, time, tupac, amaru, shakur]\n",
       "1599999                                                                                       [happy]\n",
       "Name: tokenized_tweet, Length: 1600000, dtype: object"
      ]
     },
     "execution_count": 33,
     "metadata": {},
     "output_type": "execute_result"
    }
   ],
   "source": [
    "def tokenize(tweet):\n",
    "  tweet = nltk.word_tokenize(tweet)\n",
    "  return tweet\n",
    "\n",
    "df['tokenized_tweet'] = df.no_stop_cleaned_tweet.apply(lambda x : tokenize(x))\n",
    "df.tokenized_tweet"
   ]
  },
  {
   "cell_type": "markdown",
   "metadata": {
    "id": "FsH-tlRzSvsx"
   },
   "source": [
    "Lemmatize or Stemm the tokenized tweets"
   ]
  },
  {
   "cell_type": "code",
   "execution_count": 34,
   "metadata": {
    "colab": {
     "base_uri": "https://localhost:8080/",
     "height": 458
    },
    "id": "6CnF1SDMSv9_",
    "outputId": "be5b2f4b-3c2b-41b4-95cd-7cc0f0644386"
   },
   "outputs": [
    {
     "data": {
      "text/plain": [
       "0                              awww that 's bummer shoulda got david carr third day\n",
       "1          upset ca n't updat facebook text might cri result school today also blah\n",
       "2                                   dive mani time ball manag save 50 rest go bound\n",
       "3                                                   whole bodi feel itchi like fire\n",
       "4                                                         behav i 'm mad ca n't see\n",
       "                                             ...                                   \n",
       "1599995                                                  woke school best feel ever\n",
       "1599996                                     thewdb com cool hear old walt interview\n",
       "1599997                                                readi mojo makeov ask detail\n",
       "1599998                        happi 38th birthday boo alll time tupac amaru shakur\n",
       "1599999                                                                       happi\n",
       "Name: stem_tweet, Length: 1600000, dtype: object"
      ]
     },
     "execution_count": 34,
     "metadata": {},
     "output_type": "execute_result"
    }
   ],
   "source": [
    "def stemmer(tweet):\n",
    "  stemmer = PorterStemmer()\n",
    "  tweet = [stemmer.stem(word) for word in tweet]\n",
    "  return tweet\n",
    "\n",
    "\n",
    "df['stem_tweet'] = df.tokenized_tweet.apply(lambda x : ' '.join(stemmer(x)))\n",
    "df.stem_tweet"
   ]
  },
  {
   "cell_type": "code",
   "execution_count": 35,
   "metadata": {
    "colab": {
     "base_uri": "https://localhost:8080/",
     "height": 458
    },
    "id": "sUNdC6IcS7y4",
    "outputId": "7c119eae-f19e-46f0-befe-4845e98e1ecb"
   },
   "outputs": [
    {
     "data": {
      "text/plain": [
       "0                                  awww that 's bummer shoulda got david carr third day\n",
       "1          upset ca n't update facebook texting might cry result school today also blah\n",
       "2                                    dived many time ball managed save 50 rest go bound\n",
       "3                                                       whole body feel itchy like fire\n",
       "4                                                          behaving i 'm mad ca n't see\n",
       "                                               ...                                     \n",
       "1599995                                                   woke school best feeling ever\n",
       "1599996                                         thewdb com cool hear old walt interview\n",
       "1599997                                                  ready mojo makeover ask detail\n",
       "1599998                            happy 38th birthday boo alll time tupac amaru shakur\n",
       "1599999                                                                           happy\n",
       "Name: lem_tweet, Length: 1600000, dtype: object"
      ]
     },
     "execution_count": 35,
     "metadata": {},
     "output_type": "execute_result"
    }
   ],
   "source": [
    "def lemmatizer(tweet):\n",
    "  lemmatizer = WordNetLemmatizer()\n",
    "  tweet = [lemmatizer.lemmatize(word) for word in tweet]\n",
    "  return tweet\n",
    "\n",
    "\n",
    "df['lem_tweet'] = df.tokenized_tweet.apply(lambda x : ' '.join(lemmatizer(x)))\n",
    "df.lem_tweet"
   ]
  },
  {
   "cell_type": "markdown",
   "metadata": {
    "id": "2yj4wtVATo1j"
   },
   "source": [
    "Result:\n",
    "Comparison between the original tweet and the lemmatized tweet"
   ]
  },
  {
   "cell_type": "code",
   "execution_count": 36,
   "metadata": {
    "colab": {
     "base_uri": "https://localhost:8080/",
     "height": 510
    },
    "id": "YWAyRuYeTqyZ",
    "outputId": "b8112cb5-3e3c-4971-bbf6-797ecaafe7c1"
   },
   "outputs": [
    {
     "data": {
      "text/html": [
       "<div>\n",
       "<style scoped>\n",
       "    .dataframe tbody tr th:only-of-type {\n",
       "        vertical-align: middle;\n",
       "    }\n",
       "\n",
       "    .dataframe tbody tr th {\n",
       "        vertical-align: top;\n",
       "    }\n",
       "\n",
       "    .dataframe thead th {\n",
       "        text-align: right;\n",
       "    }\n",
       "</style>\n",
       "<table border=\"1\" class=\"dataframe\">\n",
       "  <thead>\n",
       "    <tr style=\"text-align: right;\">\n",
       "      <th></th>\n",
       "      <th>tweet</th>\n",
       "      <th>lem_tweet</th>\n",
       "    </tr>\n",
       "  </thead>\n",
       "  <tbody>\n",
       "    <tr>\n",
       "      <th>0</th>\n",
       "      <td>@switchfoot http://twitpic.com/2y1zl - Awww, that's a bummer.  You shoulda got David Carr of Third Day to do it. ;D</td>\n",
       "      <td>awww that 's bummer shoulda got david carr third day</td>\n",
       "    </tr>\n",
       "    <tr>\n",
       "      <th>1</th>\n",
       "      <td>is upset that he can't update his Facebook by texting it... and might cry as a result  School today also. Blah!</td>\n",
       "      <td>upset ca n't update facebook texting might cry result school today also blah</td>\n",
       "    </tr>\n",
       "    <tr>\n",
       "      <th>2</th>\n",
       "      <td>@Kenichan I dived many times for the ball. Managed to save 50%  The rest go out of bounds</td>\n",
       "      <td>dived many time ball managed save 50 rest go bound</td>\n",
       "    </tr>\n",
       "    <tr>\n",
       "      <th>3</th>\n",
       "      <td>my whole body feels itchy and like its on fire</td>\n",
       "      <td>whole body feel itchy like fire</td>\n",
       "    </tr>\n",
       "    <tr>\n",
       "      <th>4</th>\n",
       "      <td>@nationwideclass no, it's not behaving at all. i'm mad. why am i here? because I can't see you all over there.</td>\n",
       "      <td>behaving i 'm mad ca n't see</td>\n",
       "    </tr>\n",
       "    <tr>\n",
       "      <th>...</th>\n",
       "      <td>...</td>\n",
       "      <td>...</td>\n",
       "    </tr>\n",
       "    <tr>\n",
       "      <th>1599995</th>\n",
       "      <td>Just woke up. Having no school is the best feeling ever</td>\n",
       "      <td>woke school best feeling ever</td>\n",
       "    </tr>\n",
       "    <tr>\n",
       "      <th>1599996</th>\n",
       "      <td>TheWDB.com - Very cool to hear old Walt interviews!  â« http://blip.fm/~8bmta</td>\n",
       "      <td>thewdb com cool hear old walt interview</td>\n",
       "    </tr>\n",
       "    <tr>\n",
       "      <th>1599997</th>\n",
       "      <td>Are you ready for your MoJo Makeover? Ask me for details</td>\n",
       "      <td>ready mojo makeover ask detail</td>\n",
       "    </tr>\n",
       "    <tr>\n",
       "      <th>1599998</th>\n",
       "      <td>Happy 38th Birthday to my boo of alll time!!! Tupac Amaru Shakur</td>\n",
       "      <td>happy 38th birthday boo alll time tupac amaru shakur</td>\n",
       "    </tr>\n",
       "    <tr>\n",
       "      <th>1599999</th>\n",
       "      <td>happy #charitytuesday @theNSPCC @SparksCharity @SpeakingUpH4H</td>\n",
       "      <td>happy</td>\n",
       "    </tr>\n",
       "  </tbody>\n",
       "</table>\n",
       "<p>1600000 rows × 2 columns</p>\n",
       "</div>"
      ],
      "text/plain": [
       "                                                                                                                       tweet  \\\n",
       "0        @switchfoot http://twitpic.com/2y1zl - Awww, that's a bummer.  You shoulda got David Carr of Third Day to do it. ;D   \n",
       "1            is upset that he can't update his Facebook by texting it... and might cry as a result  School today also. Blah!   \n",
       "2                                  @Kenichan I dived many times for the ball. Managed to save 50%  The rest go out of bounds   \n",
       "3                                                                            my whole body feels itchy and like its on fire    \n",
       "4            @nationwideclass no, it's not behaving at all. i'm mad. why am i here? because I can't see you all over there.    \n",
       "...                                                                                                                      ...   \n",
       "1599995                                                             Just woke up. Having no school is the best feeling ever    \n",
       "1599996                                       TheWDB.com - Very cool to hear old Walt interviews!  â« http://blip.fm/~8bmta   \n",
       "1599997                                                            Are you ready for your MoJo Makeover? Ask me for details    \n",
       "1599998                                                    Happy 38th Birthday to my boo of alll time!!! Tupac Amaru Shakur    \n",
       "1599999                                                       happy #charitytuesday @theNSPCC @SparksCharity @SpeakingUpH4H    \n",
       "\n",
       "                                                                            lem_tweet  \n",
       "0                                awww that 's bummer shoulda got david carr third day  \n",
       "1        upset ca n't update facebook texting might cry result school today also blah  \n",
       "2                                  dived many time ball managed save 50 rest go bound  \n",
       "3                                                     whole body feel itchy like fire  \n",
       "4                                                        behaving i 'm mad ca n't see  \n",
       "...                                                                               ...  \n",
       "1599995                                                 woke school best feeling ever  \n",
       "1599996                                       thewdb com cool hear old walt interview  \n",
       "1599997                                                ready mojo makeover ask detail  \n",
       "1599998                          happy 38th birthday boo alll time tupac amaru shakur  \n",
       "1599999                                                                         happy  \n",
       "\n",
       "[1600000 rows x 2 columns]"
      ]
     },
     "execution_count": 36,
     "metadata": {},
     "output_type": "execute_result"
    }
   ],
   "source": [
    "df[['tweet', 'lem_tweet']]"
   ]
  },
  {
   "cell_type": "markdown",
   "metadata": {
    "id": "FYtUvRJebonm"
   },
   "source": [
    "Save Dataframe to a .csv file"
   ]
  },
  {
   "cell_type": "code",
   "execution_count": 37,
   "metadata": {
    "id": "8gfVi2HMZbHw"
   },
   "outputs": [],
   "source": [
    "df.to_csv('sentiment140_prepared.csv', index=False)"
   ]
  }
 ],
 "metadata": {
  "colab": {
   "provenance": []
  },
  "kernelspec": {
   "display_name": "ds",
   "language": "python",
   "name": "python3"
  },
  "language_info": {
   "codemirror_mode": {
    "name": "ipython",
    "version": 3
   },
   "file_extension": ".py",
   "mimetype": "text/x-python",
   "name": "python",
   "nbconvert_exporter": "python",
   "pygments_lexer": "ipython3",
   "version": "3.11.5"
  }
 },
 "nbformat": 4,
 "nbformat_minor": 0
}

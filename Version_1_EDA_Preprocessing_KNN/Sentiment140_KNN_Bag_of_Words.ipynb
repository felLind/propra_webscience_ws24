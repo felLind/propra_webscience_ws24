{
 "cells": [
  {
   "cell_type": "markdown",
   "metadata": {},
   "source": [
    "# Bag of Words\n",
    "\n",
    "---\n",
    "\n",
    "**Datasets:**\n",
    "1. Dataset with apostrophe in regex and lemmatization\n",
    "    - sentiment140/sentiment140_lem_all_with_apostrophe.csv\n",
    "2. Dataset without apostrophe in regex and lemmatization\n",
    "    - => partially less token in tweet compared to dataset with apostrophe\n",
    "    - sentiment140/sentiment140_lem_all_no_apostrophe.csv\n",
    "3. Dataset with apostrophe in regex and stemming\n",
    "    - sentiment140/sentiment140_stem_all_with_apostrophe.csv\n",
    "4. Dataset without apostrophe in regex and stemming\n",
    "    - => partially less token in tweet compared to dataset with apostrophe\n",
    "    - sentiment140/sentiment140_stem_all_no_apostrophe.csv\n",
    "\n",
    "---\n",
    " For MAX_FEATURES = 5000 and 5% of the dataset\n",
    "\n",
    "**GridSearch Best Parameters**: {'metric': 'minkowski', 'n_neighbors': 13, 'p': 1, 'weights': 'distance'}\n",
    "\n",
    "\n",
    "\n",
    "**Accuracy best parameters from GridSearch**:\n",
    "\n",
    "|  | mit Apost. | ohne Apost. |\n",
    "|--|--|--|\n",
    "| Lem | 0.6803 | 0.6794 |\n",
    "| Stem | 0.6851 | 0.6851 |\n",
    "\n",
    "---\n",
    " For MAX_FEATURES = 10000 and 5% of the dataset\n",
    "\n",
    "**GridSearch Best Parameters**: \n",
    "- {'metric': 'minkowski', 'n_neighbors': 13, 'p': 1, 'weights': 'distance'}\n",
    "- {'metric': 'minkowski', 'n_neighbors': 13, 'p': 1, 'weights': 'distance'}\n",
    "- {'metric': 'minkowski', 'n_neighbors': 13, 'p': 1, 'weights': 'distance'}\n",
    "- {'metric': 'minkowski', 'n_neighbors': 13, 'p': 1, 'weights': 'distance'}\n",
    "\n",
    "\n",
    "\n",
    "\n",
    "**Accuracy best parameters from GridSearch**:\n",
    "\n",
    "|  | mit Apost. | ohne Apost. |\n",
    "|--|--|--|\n",
    "| Lem | 0.6822 | 0.6804 |\n",
    "| Stem | 0.6845 | 0.6856 |\n",
    "\n",
    "---\n",
    "\n",
    " For MAX_FEATURES = 10000 and 10% of the dataset\n",
    "\n",
    "**GridSearch Best Parameters**: \n",
    "- {'metric': 'minkowski', 'n_neighbors': 13, 'p': 1, 'weights': 'distance'}\n",
    "\n",
    "\n",
    "\n",
    "\n",
    "\n",
    "**Accuracy best parameters from GridSearch**:\n",
    "\n",
    "|  | mit Apost. | ohne Apost. |\n",
    "|--|--|--|\n",
    "| Lem | 0.6965 |  |\n",
    "| Stem |  |  |\n",
    "\n",
    "---\n",
    "**1. Dataset:** \n",
    "\n",
    "**MAX_FEATURE comparison:**\n",
    "\n",
    "|  | 5000 | get_max_features |\n",
    "|---|---|---|\n",
    "| N_NEIGHBORS=1, 5% | 0.6525 | 0.65 |\n",
    "| N_NEIGHBORS=5, 5% | 0.6722 | 0.6722 |\n",
    "| N_NEIGHBORS=5, 10% | 0.6900 | 0.691 |\n",
    "\n",
    "\n",
    "---\n",
    "\n",
    "Goal: train full dataset with best parameters from GridSearch and \n",
    "- MAX_FEATURES = unlimited => MemoryError\n",
    "- MAX_FEATURES = 25000 => interrupt after 6.5 h\n"
   ]
  },
  {
   "cell_type": "code",
   "execution_count": 27,
   "metadata": {},
   "outputs": [],
   "source": [
    "# Imports\n",
    "\n",
    "import pandas as pd\n",
    "from sklearn.model_selection import train_test_split\n",
    "from sklearn.feature_extraction.text import CountVectorizer\n",
    "from sklearn.neighbors import KNeighborsClassifier\n",
    "import sklearn.metrics as metrics\n",
    "from sklearn.model_selection import GridSearchCV\n",
    "import numpy as np\n",
    "\n",
    "pd.options.display.max_colwidth = None"
   ]
  },
  {
   "cell_type": "markdown",
   "metadata": {},
   "source": [
    "## 1. Dataset with apostrophe in regex and lemmatization"
   ]
  },
  {
   "cell_type": "code",
   "execution_count": 28,
   "metadata": {},
   "outputs": [
    {
     "data": {
      "text/html": [
       "<div>\n",
       "<style scoped>\n",
       "    .dataframe tbody tr th:only-of-type {\n",
       "        vertical-align: middle;\n",
       "    }\n",
       "\n",
       "    .dataframe tbody tr th {\n",
       "        vertical-align: top;\n",
       "    }\n",
       "\n",
       "    .dataframe thead th {\n",
       "        text-align: right;\n",
       "    }\n",
       "</style>\n",
       "<table border=\"1\" class=\"dataframe\">\n",
       "  <thead>\n",
       "    <tr style=\"text-align: right;\">\n",
       "      <th></th>\n",
       "      <th>sentiment</th>\n",
       "      <th>tweet</th>\n",
       "    </tr>\n",
       "  </thead>\n",
       "  <tbody>\n",
       "    <tr>\n",
       "      <th>0</th>\n",
       "      <td>0</td>\n",
       "      <td>aww that 's bummer shoulda got david carr third day</td>\n",
       "    </tr>\n",
       "    <tr>\n",
       "      <th>1</th>\n",
       "      <td>0</td>\n",
       "      <td>upset ca n't update facebook texting might cry result school today also blah</td>\n",
       "    </tr>\n",
       "    <tr>\n",
       "      <th>2</th>\n",
       "      <td>0</td>\n",
       "      <td>dived many time ball managed save 50 rest go bound</td>\n",
       "    </tr>\n",
       "    <tr>\n",
       "      <th>3</th>\n",
       "      <td>0</td>\n",
       "      <td>whole body feel itchy like fire</td>\n",
       "    </tr>\n",
       "    <tr>\n",
       "      <th>4</th>\n",
       "      <td>0</td>\n",
       "      <td>behaving i 'm mad ca n't see</td>\n",
       "    </tr>\n",
       "  </tbody>\n",
       "</table>\n",
       "</div>"
      ],
      "text/plain": [
       "   sentiment  \\\n",
       "0          0   \n",
       "1          0   \n",
       "2          0   \n",
       "3          0   \n",
       "4          0   \n",
       "\n",
       "                                                                          tweet  \n",
       "0                           aww that 's bummer shoulda got david carr third day  \n",
       "1  upset ca n't update facebook texting might cry result school today also blah  \n",
       "2                            dived many time ball managed save 50 rest go bound  \n",
       "3                                               whole body feel itchy like fire  \n",
       "4                                                  behaving i 'm mad ca n't see  "
      ]
     },
     "execution_count": 28,
     "metadata": {},
     "output_type": "execute_result"
    }
   ],
   "source": [
    "DATA_NAME = 'sentiment140/sentiment140_lem_all_with_apostrophe.csv'\n",
    "ENCODING = 'latin-1'\n",
    "COLUMN_NAMES = ['sentiment', 'tweet']\n",
    "NROWS = 1600000\n",
    "\n",
    "df_with_apostrophe = pd.read_csv(DATA_NAME,\n",
    "                 encoding=ENCODING,\n",
    "                 header=None,\n",
    "                 names=COLUMN_NAMES,\n",
    "                 nrows=NROWS\n",
    "                 )\n",
    "\n",
    "df_with_apostrophe.head(5)"
   ]
  },
  {
   "cell_type": "code",
   "execution_count": 29,
   "metadata": {},
   "outputs": [
    {
     "name": "stdout",
     "output_type": "stream",
     "text": [
      "10% df sentiment\n",
      "0    80067\n",
      "1    79933\n",
      "Name: count, dtype: int64\n",
      "5% df sentiment\n",
      "0    40067\n",
      "1    39933\n",
      "Name: count, dtype: int64\n"
     ]
    }
   ],
   "source": [
    "# create smaller datasets with 5% and 10% of the data for testing\n",
    "length_of_df_w = df_with_apostrophe.shape[0]\n",
    "df_with_apostrophe_10 = df_with_apostrophe.iloc[int((length_of_df_w/2) - 80000):int((length_of_df_w/2) + 80000)]\n",
    "df_with_apostrophe_5 = df_with_apostrophe.iloc[int((length_of_df_w/2) - 40000):int((length_of_df_w/2) + 40000)]\n",
    "\n",
    "print('10% df', df_with_apostrophe_10.sentiment.value_counts())\n",
    "print('5% df', df_with_apostrophe_5.sentiment.value_counts())\n"
   ]
  },
  {
   "cell_type": "code",
   "execution_count": 6,
   "metadata": {},
   "outputs": [],
   "source": [
    "# get the value for MAX_FEATURES for a certain quantile\n",
    "\n",
    "def get_max_features(dataset, quantil):\n",
    "    vectorizer = CountVectorizer()\n",
    "    X = vectorizer.fit_transform(dataset)\n",
    "\n",
    "    word_list = vectorizer.get_feature_names_out()\n",
    "    word_count = np.array(X.sum(axis=0)).flatten()\n",
    "\n",
    "    word_dict = [word_list, word_count]\n",
    "    df_words = pd.DataFrame(word_dict).T\n",
    "    df_words.rename(columns={0:'word', 1:'anzahl'}, inplace=True)\n",
    "\n",
    "    df_words = df_words.sort_values(by='anzahl', ascending=False)\n",
    "    df_words = df_words.reset_index(drop=True)\n",
    "\n",
    "    data = df_words['anzahl']\n",
    "    threshold = df_words.anzahl.sum() * quantil*0.01\n",
    "\n",
    "    def accumulate_to_threshold(data, threshold):\n",
    "        total = 0\n",
    "        for index, item in enumerate(data):\n",
    "            total += item\n",
    "            if total > threshold:\n",
    "                print(index)\n",
    "                return index\n",
    "\n",
    "    return accumulate_to_threshold(data, threshold)\n"
   ]
  },
  {
   "cell_type": "code",
   "execution_count": 21,
   "metadata": {},
   "outputs": [
    {
     "name": "stdout",
     "output_type": "stream",
     "text": [
      "18412\n"
     ]
    }
   ],
   "source": [
    "USED_DF = df_with_apostrophe_10\n",
    "QUANTIL = 95\n",
    "MAX_FEATURES = get_max_features(USED_DF.tweet, QUANTIL)\n",
    "TEST_SIZE = 0.2\n",
    "N_NEIGHBORS = 1"
   ]
  },
  {
   "cell_type": "code",
   "execution_count": 22,
   "metadata": {},
   "outputs": [
    {
     "name": "stdout",
     "output_type": "stream",
     "text": [
      "sentiment\n",
      "0    64176\n",
      "1    63824\n",
      "Name: count, dtype: int64\n",
      "sentiment\n",
      "1    16109\n",
      "0    15891\n",
      "Name: count, dtype: int64\n"
     ]
    }
   ],
   "source": [
    "X_train, X_test, y_train, y_test = train_test_split(\n",
    "                                    USED_DF.tweet,\n",
    "                                    USED_DF.sentiment,\n",
    "                                    test_size=TEST_SIZE,\n",
    "                                    random_state=42\n",
    "                                    )\n",
    "print(y_train.value_counts())\n",
    "print(y_test.value_counts())"
   ]
  },
  {
   "cell_type": "code",
   "execution_count": 23,
   "metadata": {},
   "outputs": [
    {
     "name": "stdout",
     "output_type": "stream",
     "text": [
      "X_train_shape (128000, 18412)\n",
      "X_test_shape (32000, 18412)\n",
      "y_train_shape (128000,)\n",
      "y_test_shape (32000,)\n"
     ]
    }
   ],
   "source": [
    "# Bag of Words model\n",
    "vectorizer = CountVectorizer(max_features=MAX_FEATURES)\n",
    "BoWvectorizer = vectorizer.fit(USED_DF.tweet)\n",
    "\n",
    "X_train_bow = BoWvectorizer.transform(X_train)\n",
    "X_test_bow = BoWvectorizer.transform(X_test)\n",
    "\n",
    "print(\"X_train_shape\", X_train_bow.toarray().shape)\n",
    "print(\"X_test_shape\", X_test_bow.toarray().shape)\n",
    "print(\"y_train_shape\", y_train.shape)\n",
    "print(\"y_test_shape\", y_test.shape)"
   ]
  },
  {
   "cell_type": "code",
   "execution_count": 19,
   "metadata": {},
   "outputs": [
    {
     "name": "stdout",
     "output_type": "stream",
     "text": [
      "classification report test\n",
      "               precision    recall  f1-score   support\n",
      "\n",
      "           0       0.66      0.67      0.66     15891\n",
      "           1       0.67      0.66      0.66     16109\n",
      "\n",
      "    accuracy                           0.66     32000\n",
      "   macro avg       0.66      0.66      0.66     32000\n",
      "weighted avg       0.66      0.66      0.66     32000\n",
      "\n",
      "test accuracy 0.6619375\n",
      "train accuracy 0.9908984375\n"
     ]
    }
   ],
   "source": [
    "clf_knn = KNeighborsClassifier(n_neighbors=N_NEIGHBORS).fit(X_train_bow, y_train)\n",
    "\n",
    "pred_X_train = clf_knn.predict(X_train_bow)\n",
    "pred_X_test = clf_knn.predict(X_test_bow)\n",
    "\n",
    "print('classification report test\\n', metrics.classification_report(y_test, pred_X_test))\n",
    "print('test accuracy', metrics.accuracy_score(y_test, pred_X_test))\n",
    "print('train accuracy', metrics.accuracy_score(y_train, pred_X_train))"
   ]
  },
  {
   "cell_type": "markdown",
   "metadata": {},
   "source": [
    "#### GridSearch for best KNN parameters"
   ]
  },
  {
   "cell_type": "code",
   "execution_count": 41,
   "metadata": {},
   "outputs": [
    {
     "name": "stdout",
     "output_type": "stream",
     "text": [
      "Fitting 5 folds for each of 16 candidates, totalling 80 fits\n",
      "{'metric': 'minkowski', 'n_neighbors': 13, 'p': 1, 'weights': 'distance'}\n",
      "0.6965234375\n"
     ]
    }
   ],
   "source": [
    "PARAM_GRID = {'n_neighbors': [1, 5, 9, 13],\n",
    "              'p': [1, 2],\n",
    "              'weights': ('uniform', 'distance'),\n",
    "              'metric': ['minkowski']\n",
    "              }\n",
    "\n",
    "\n",
    "grid = GridSearchCV(estimator=KNeighborsClassifier(),\n",
    "                    param_grid=PARAM_GRID,\n",
    "                    scoring='accuracy',\n",
    "                    n_jobs=-1,\n",
    "                    refit=True,\n",
    "                    cv=5,\n",
    "                    verbose=4\n",
    "                    )\n",
    "\n",
    "grid.fit(X_train_bow, y_train)\n",
    "\n",
    "# Results\n",
    "print(grid.best_params_)\n",
    "print(grid.best_score_)"
   ]
  },
  {
   "cell_type": "code",
   "execution_count": 42,
   "metadata": {},
   "outputs": [
    {
     "name": "stdout",
     "output_type": "stream",
     "text": [
      "classification report grid test\n",
      "               precision    recall  f1-score   support\n",
      "\n",
      "           0       0.73      0.64      0.68     15891\n",
      "           1       0.69      0.76      0.72     16109\n",
      "\n",
      "    accuracy                           0.70     32000\n",
      "   macro avg       0.71      0.70      0.70     32000\n",
      "weighted avg       0.71      0.70      0.70     32000\n",
      "\n"
     ]
    }
   ],
   "source": [
    "# predict X_test for the best parameters\n",
    "pred_grid = grid.predict(X_test_bow)\n",
    "\n",
    "print('classification report grid test\\n', metrics.classification_report(y_test, pred_grid))"
   ]
  },
  {
   "cell_type": "markdown",
   "metadata": {},
   "source": [
    "#### Testing different values for n_neighbors (metric, p, weights values from GredSearch)"
   ]
  },
  {
   "cell_type": "code",
   "execution_count": null,
   "metadata": {},
   "outputs": [
    {
     "name": "stdout",
     "output_type": "stream",
     "text": [
      "start with k =  1\n",
      "done with  1\n",
      "start with k =  3\n",
      "done with  3\n",
      "start with k =  5\n",
      "done with  5\n",
      "start with k =  7\n",
      "done with  7\n",
      "start with k =  9\n",
      "done with  9\n",
      "start with k =  11\n",
      "done with  11\n",
      "start with k =  13\n",
      "done with  13\n",
      "start with k =  15\n",
      "done with  15\n",
      "start with k =  17\n",
      "done with  17\n"
     ]
    }
   ],
   "source": [
    "# KNN model MAX_FEATURES = 5000 UND 5%\n",
    "\n",
    "K_WS = 17\n",
    "METRIC = 'minkowski'\n",
    "P = 1\n",
    "WEIGHTS = 'distance'\n",
    "\n",
    "\n",
    "# save values in array for plotting\n",
    "k_values = []\n",
    "train_accuracy = []\n",
    "accuracy = []\n",
    "precision = []\n",
    "recall = []\n",
    "f1 = []\n",
    "\n",
    "for k in range(1,K_WS+1, 2):\n",
    "  k_val = k\n",
    "\n",
    "  print('start with k = ', k)\n",
    "  clf_knn_2 = KNeighborsClassifier(n_neighbors=k, metric=METRIC, p=P, weights=WEIGHTS).fit(X_train_bow, y_train)\n",
    "\n",
    "  pred_train = clf_knn_2.predict(X_train_bow)\n",
    "  pred_test = clf_knn_2.predict(X_test_bow)\n",
    "\n",
    "  k_values.append(k)\n",
    "  train_accuracy.append(metrics.accuracy_score(y_train, pred_train))\n",
    "  accuracy.append(metrics.accuracy_score(y_test, pred_test))\n",
    "  precision.append(metrics.precision_score(y_test, pred_test))\n",
    "  recall.append(metrics.recall_score(y_test, pred_test))\n",
    "  f1.append(metrics.f1_score(y_test, pred_test).round(3))\n",
    "\n",
    "\n",
    "  print('done with ', k)"
   ]
  },
  {
   "cell_type": "code",
   "execution_count": 75,
   "metadata": {},
   "outputs": [
    {
     "data": {
      "text/plain": [
       "<Axes: title={'center': 'Metrics for KNN classifier \\n (5% dataset, train-test split 80/20,\\n dataset with apost., lemmatized tweets) '}, xlabel='k_values'>"
      ]
     },
     "execution_count": 75,
     "metadata": {},
     "output_type": "execute_result"
    },
    {
     "data": {
      "image/png": "[encoded data removed]",
      "text/plain": [
       "<Figure size 640x480 with 1 Axes>"
      ]
     },
     "metadata": {},
     "output_type": "display_data"
    }
   ],
   "source": [
    "metrics_array = np.array([k_values,train_accuracy, accuracy, precision, recall, f1])\n",
    "metrics_df = pd.DataFrame(metrics_array.T, columns=['k_values', 'train_accuracy', 'accuracy', 'precision', 'recall', 'f1'])\n",
    "\n",
    "metrics_df.plot.line(x='k_values', y=['accuracy', 'f1'], \n",
    "                     title='Metrics for KNN classifier \\n (5% dataset, train-test split 80/20,\\n dataset with apost., lemmatized tweets) ',\n",
    "                     xticks=range(1,19,2),\n",
    "                     grid=True\n",
    "                     )"
   ]
  },
  {
   "cell_type": "markdown",
   "metadata": {},
   "source": [
    "## 2. Dataset without apostrophe in regex and lemmatization"
   ]
  },
  {
   "cell_type": "code",
   "execution_count": 30,
   "metadata": {},
   "outputs": [
    {
     "data": {
      "text/html": [
       "<div>\n",
       "<style scoped>\n",
       "    .dataframe tbody tr th:only-of-type {\n",
       "        vertical-align: middle;\n",
       "    }\n",
       "\n",
       "    .dataframe tbody tr th {\n",
       "        vertical-align: top;\n",
       "    }\n",
       "\n",
       "    .dataframe thead th {\n",
       "        text-align: right;\n",
       "    }\n",
       "</style>\n",
       "<table border=\"1\" class=\"dataframe\">\n",
       "  <thead>\n",
       "    <tr style=\"text-align: right;\">\n",
       "      <th></th>\n",
       "      <th>sentiment</th>\n",
       "      <th>tweet</th>\n",
       "    </tr>\n",
       "  </thead>\n",
       "  <tbody>\n",
       "    <tr>\n",
       "      <th>0</th>\n",
       "      <td>0</td>\n",
       "      <td>aww bummer shoulda got david carr third day</td>\n",
       "    </tr>\n",
       "    <tr>\n",
       "      <th>1</th>\n",
       "      <td>0</td>\n",
       "      <td>upset update facebook texting might cry result school today also blah</td>\n",
       "    </tr>\n",
       "    <tr>\n",
       "      <th>2</th>\n",
       "      <td>0</td>\n",
       "      <td>dived many time ball managed save 50 rest go bound</td>\n",
       "    </tr>\n",
       "    <tr>\n",
       "      <th>3</th>\n",
       "      <td>0</td>\n",
       "      <td>whole body feel itchy like fire</td>\n",
       "    </tr>\n",
       "    <tr>\n",
       "      <th>4</th>\n",
       "      <td>0</td>\n",
       "      <td>behaving mad see</td>\n",
       "    </tr>\n",
       "  </tbody>\n",
       "</table>\n",
       "</div>"
      ],
      "text/plain": [
       "   sentiment  \\\n",
       "0          0   \n",
       "1          0   \n",
       "2          0   \n",
       "3          0   \n",
       "4          0   \n",
       "\n",
       "                                                                   tweet  \n",
       "0                            aww bummer shoulda got david carr third day  \n",
       "1  upset update facebook texting might cry result school today also blah  \n",
       "2                     dived many time ball managed save 50 rest go bound  \n",
       "3                                        whole body feel itchy like fire  \n",
       "4                                                       behaving mad see  "
      ]
     },
     "execution_count": 30,
     "metadata": {},
     "output_type": "execute_result"
    }
   ],
   "source": [
    "DATA_NAME = 'sentiment140/sentiment140_lem_all_no_apostrophe.csv'\n",
    "ENCODING = 'latin-1'\n",
    "COLUMN_NAMES = ['sentiment', 'tweet']\n",
    "NROWS = 1600000\n",
    "\n",
    "df_no_apostrophe = pd.read_csv(DATA_NAME,\n",
    "                                encoding=ENCODING,\n",
    "                                header=None,\n",
    "                                names=COLUMN_NAMES,\n",
    "                                nrows=NROWS\n",
    "                                )\n",
    "\n",
    "df_no_apostrophe.head(5)"
   ]
  },
  {
   "cell_type": "code",
   "execution_count": 31,
   "metadata": {},
   "outputs": [
    {
     "name": "stdout",
     "output_type": "stream",
     "text": [
      "10% df sentiment\n",
      "0    80081\n",
      "1    79919\n",
      "Name: count, dtype: int64\n",
      "5% df sentiment\n",
      "0    40081\n",
      "1    39919\n",
      "Name: count, dtype: int64\n"
     ]
    }
   ],
   "source": [
    "# create smaller dataset\n",
    "length_of_df_w = df_no_apostrophe.shape[0]\n",
    "df_no_apostrophe_10 = df_no_apostrophe.iloc[int((length_of_df_w/2) - 80000):int((length_of_df_w/2) + 80000)]\n",
    "df_no_apostrophe_5 = df_no_apostrophe.iloc[int((length_of_df_w/2) - 40000):int((length_of_df_w/2) + 40000)]\n",
    "\n",
    "print('10% df', df_no_apostrophe_10.sentiment.value_counts())\n",
    "print('5% df', df_no_apostrophe_5.sentiment.value_counts())"
   ]
  },
  {
   "cell_type": "code",
   "execution_count": 32,
   "metadata": {},
   "outputs": [],
   "source": [
    "USED_DF = df_no_apostrophe_5\n",
    "MAX_FEATURES = 10000\n",
    "TEST_SIZE = 0.2\n",
    "N_NEIGHBORS = 1"
   ]
  },
  {
   "cell_type": "code",
   "execution_count": 33,
   "metadata": {},
   "outputs": [],
   "source": [
    "X_train, X_test, y_train, y_test = train_test_split(\n",
    "                                    USED_DF.tweet,\n",
    "                                    USED_DF.sentiment,\n",
    "                                    test_size=TEST_SIZE,\n",
    "                                    random_state=42\n",
    "                                    )"
   ]
  },
  {
   "cell_type": "code",
   "execution_count": 34,
   "metadata": {},
   "outputs": [
    {
     "name": "stdout",
     "output_type": "stream",
     "text": [
      "X_train_shape (64000, 10000)\n",
      "X_test_shape (16000, 10000)\n",
      "y_train_shape (64000,)\n",
      "y_test_shape (16000,)\n"
     ]
    }
   ],
   "source": [
    "# Bag of Words model\n",
    "vectorizer = CountVectorizer(max_features=MAX_FEATURES)\n",
    "BoWvectorizer = vectorizer.fit(USED_DF.tweet)\n",
    "\n",
    "X_train = BoWvectorizer.transform(X_train)\n",
    "X_test = BoWvectorizer.transform(X_test)\n",
    "\n",
    "print(\"X_train_shape\", X_train.toarray().shape)\n",
    "print(\"X_test_shape\", X_test.toarray().shape)\n",
    "print(\"y_train_shape\", y_train.shape)\n",
    "print(\"y_test_shape\", y_test.shape)"
   ]
  },
  {
   "cell_type": "code",
   "execution_count": 35,
   "metadata": {},
   "outputs": [
    {
     "name": "stdout",
     "output_type": "stream",
     "text": [
      "classification report test\n",
      "               precision    recall  f1-score   support\n",
      "\n",
      "           0       0.66      0.65      0.65      7992\n",
      "           1       0.65      0.66      0.66      8008\n",
      "\n",
      "    accuracy                           0.65     16000\n",
      "   macro avg       0.65      0.65      0.65     16000\n",
      "weighted avg       0.65      0.65      0.65     16000\n",
      "\n",
      "test accuracy 0.654\n",
      "train accuracy 0.9900625\n"
     ]
    }
   ],
   "source": [
    "clf_knn = KNeighborsClassifier(n_neighbors=N_NEIGHBORS).fit(X_train, y_train)\n",
    "\n",
    "pred_X_train = clf_knn.predict(X_train)\n",
    "pred_X_test = clf_knn.predict(X_test)\n",
    "\n",
    "print('classification report test\\n', metrics.classification_report(y_test, pred_X_test))\n",
    "print('test accuracy', metrics.accuracy_score(y_test, pred_X_test))\n",
    "print('train accuracy', metrics.accuracy_score(y_train, pred_X_train))"
   ]
  },
  {
   "cell_type": "markdown",
   "metadata": {},
   "source": [
    "#### GridSearch for best KNN parameters"
   ]
  },
  {
   "cell_type": "code",
   "execution_count": 36,
   "metadata": {},
   "outputs": [
    {
     "name": "stdout",
     "output_type": "stream",
     "text": [
      "Fitting 5 folds for each of 16 candidates, totalling 80 fits\n",
      "{'metric': 'minkowski', 'n_neighbors': 13, 'p': 1, 'weights': 'distance'}\n",
      "0.680375\n"
     ]
    }
   ],
   "source": [
    "PARAM_GRID = {'n_neighbors': [1, 5, 9, 13],\n",
    "              'p': [1, 2],\n",
    "              'weights': ('uniform', 'distance'),\n",
    "              'metric': ['minkowski']\n",
    "              }\n",
    "\n",
    "\n",
    "grid = GridSearchCV(estimator=KNeighborsClassifier(),\n",
    "                    param_grid=PARAM_GRID,\n",
    "                    scoring='accuracy',\n",
    "                    n_jobs=-1,\n",
    "                    refit=True,\n",
    "                    cv=5,\n",
    "                    verbose=4\n",
    "                    )\n",
    "\n",
    "grid.fit(X_train, y_train)\n",
    "\n",
    "# results\n",
    "print(grid.best_params_)\n",
    "print(grid.best_score_)"
   ]
  },
  {
   "cell_type": "code",
   "execution_count": 37,
   "metadata": {},
   "outputs": [
    {
     "name": "stdout",
     "output_type": "stream",
     "text": [
      "classification report grid test\n",
      "               precision    recall  f1-score   support\n",
      "\n",
      "           0       0.71      0.62      0.67      7992\n",
      "           1       0.67      0.75      0.71      8008\n",
      "\n",
      "    accuracy                           0.69     16000\n",
      "   macro avg       0.69      0.69      0.69     16000\n",
      "weighted avg       0.69      0.69      0.69     16000\n",
      "\n"
     ]
    }
   ],
   "source": [
    "# predict X_test for the best parameters\n",
    "pred_grid = grid.predict(X_test)\n",
    "\n",
    "print('classification report grid test\\n', metrics.classification_report(y_test, pred_grid))"
   ]
  },
  {
   "cell_type": "markdown",
   "metadata": {},
   "source": [
    "## 3. Dataset with apostrophe in regex and stemming"
   ]
  },
  {
   "cell_type": "code",
   "execution_count": null,
   "metadata": {},
   "outputs": [
    {
     "data": {
      "text/html": [
       "<div>\n",
       "<style scoped>\n",
       "    .dataframe tbody tr th:only-of-type {\n",
       "        vertical-align: middle;\n",
       "    }\n",
       "\n",
       "    .dataframe tbody tr th {\n",
       "        vertical-align: top;\n",
       "    }\n",
       "\n",
       "    .dataframe thead th {\n",
       "        text-align: right;\n",
       "    }\n",
       "</style>\n",
       "<table border=\"1\" class=\"dataframe\">\n",
       "  <thead>\n",
       "    <tr style=\"text-align: right;\">\n",
       "      <th></th>\n",
       "      <th>sentiment</th>\n",
       "      <th>tweet</th>\n",
       "    </tr>\n",
       "  </thead>\n",
       "  <tbody>\n",
       "    <tr>\n",
       "      <th>0</th>\n",
       "      <td>0</td>\n",
       "      <td>['aww', 'that', \"'s\", 'bummer', 'shoulda', 'got', 'david', 'carr', 'third', 'day']</td>\n",
       "    </tr>\n",
       "    <tr>\n",
       "      <th>1</th>\n",
       "      <td>0</td>\n",
       "      <td>['upset', 'ca', \"n't\", 'updat', 'facebook', 'text', 'might', 'cri', 'result', 'school', 'today', 'also', 'blah']</td>\n",
       "    </tr>\n",
       "    <tr>\n",
       "      <th>2</th>\n",
       "      <td>0</td>\n",
       "      <td>['dive', 'mani', 'time', 'ball', 'manag', 'save', '50', 'rest', 'go', 'bound']</td>\n",
       "    </tr>\n",
       "    <tr>\n",
       "      <th>3</th>\n",
       "      <td>0</td>\n",
       "      <td>['whole', 'bodi', 'feel', 'itchi', 'like', 'fire']</td>\n",
       "    </tr>\n",
       "    <tr>\n",
       "      <th>4</th>\n",
       "      <td>0</td>\n",
       "      <td>['behav', 'i', \"'m\", 'mad', 'ca', \"n't\", 'see']</td>\n",
       "    </tr>\n",
       "  </tbody>\n",
       "</table>\n",
       "</div>"
      ],
      "text/plain": [
       "   sentiment  \\\n",
       "0          0   \n",
       "1          0   \n",
       "2          0   \n",
       "3          0   \n",
       "4          0   \n",
       "\n",
       "                                                                                                              tweet  \n",
       "0                                ['aww', 'that', \"'s\", 'bummer', 'shoulda', 'got', 'david', 'carr', 'third', 'day']  \n",
       "1  ['upset', 'ca', \"n't\", 'updat', 'facebook', 'text', 'might', 'cri', 'result', 'school', 'today', 'also', 'blah']  \n",
       "2                                    ['dive', 'mani', 'time', 'ball', 'manag', 'save', '50', 'rest', 'go', 'bound']  \n",
       "3                                                                ['whole', 'bodi', 'feel', 'itchi', 'like', 'fire']  \n",
       "4                                                                   ['behav', 'i', \"'m\", 'mad', 'ca', \"n't\", 'see']  "
      ]
     },
     "execution_count": 18,
     "metadata": {},
     "output_type": "execute_result"
    }
   ],
   "source": [
    "DATA_NAME = 'sentiment140/sentiment140_stem_all_with_apostrophe.csv'\n",
    "ENCODING = 'latin-1'\n",
    "COLUMN_NAMES = ['sentiment', 'tweet']\n",
    "NROWS = 1600000\n",
    "\n",
    "df_with_apostrophe_stem = pd.read_csv(DATA_NAME,\n",
    "                                encoding=ENCODING,\n",
    "                                header=None,\n",
    "                                names=COLUMN_NAMES,\n",
    "                                nrows=NROWS\n",
    "                                )\n",
    "\n",
    "df_with_apostrophe_stem.head(5)"
   ]
  },
  {
   "cell_type": "code",
   "execution_count": null,
   "metadata": {},
   "outputs": [
    {
     "name": "stdout",
     "output_type": "stream",
     "text": [
      "10% df sentiment\n",
      "0    80067\n",
      "1    79933\n",
      "Name: count, dtype: int64\n",
      "5% df sentiment\n",
      "0    40067\n",
      "1    39933\n",
      "Name: count, dtype: int64\n"
     ]
    }
   ],
   "source": [
    "# create smaller dataset\n",
    "length_of_df_w = df_with_apostrophe_stem.shape[0]\n",
    "df_with_apostrophe_stem_10 = df_with_apostrophe_stem.iloc[int((length_of_df_w/2) - 80000):int((length_of_df_w/2) + 80000)]\n",
    "df_with_apostrophe_stem_5 = df_with_apostrophe_stem.iloc[int((length_of_df_w/2) - 40000):int((length_of_df_w/2) + 40000)]\n",
    "\n",
    "print('10% df', df_with_apostrophe_stem_10.sentiment.value_counts())\n",
    "print('5% df', df_with_apostrophe_stem_5.sentiment.value_counts())"
   ]
  },
  {
   "cell_type": "code",
   "execution_count": null,
   "metadata": {},
   "outputs": [],
   "source": [
    "USED_DF = df_with_apostrophe_stem_10\n",
    "MAX_FEATURES = 10000\n",
    "TEST_SIZE = 0.2\n",
    "N_NEIGHBORS = 1"
   ]
  },
  {
   "cell_type": "code",
   "execution_count": null,
   "metadata": {},
   "outputs": [],
   "source": [
    "X_train, X_test, y_train, y_test = train_test_split(\n",
    "                                    USED_DF.tweet,\n",
    "                                    USED_DF.sentiment,\n",
    "                                    test_size=TEST_SIZE,\n",
    "                                    random_state=42\n",
    "                                    )"
   ]
  },
  {
   "cell_type": "code",
   "execution_count": null,
   "metadata": {},
   "outputs": [
    {
     "name": "stdout",
     "output_type": "stream",
     "text": [
      "X_train_shape (64000, 10000)\n",
      "X_test_shape (16000, 10000)\n",
      "y_train_shape (64000,)\n",
      "y_test_shape (16000,)\n"
     ]
    }
   ],
   "source": [
    "# Bag of Words model\n",
    "vectorizer = CountVectorizer(max_features=MAX_FEATURES)\n",
    "BoWvectorizer = vectorizer.fit(USED_DF.tweet)\n",
    "\n",
    "X_train = BoWvectorizer.transform(X_train)\n",
    "X_test = BoWvectorizer.transform(X_test)\n",
    "\n",
    "print(\"X_train_shape\", X_train.toarray().shape)\n",
    "print(\"X_test_shape\", X_test.toarray().shape)\n",
    "print(\"y_train_shape\", y_train.shape)\n",
    "print(\"y_test_shape\", y_test.shape)"
   ]
  },
  {
   "cell_type": "code",
   "execution_count": null,
   "metadata": {},
   "outputs": [
    {
     "name": "stdout",
     "output_type": "stream",
     "text": [
      "classification report test\n",
      "               precision    recall  f1-score   support\n",
      "\n",
      "           0       0.65      0.65      0.65      7991\n",
      "           1       0.65      0.66      0.66      8009\n",
      "\n",
      "    accuracy                           0.65     16000\n",
      "   macro avg       0.65      0.65      0.65     16000\n",
      "weighted avg       0.65      0.65      0.65     16000\n",
      "\n",
      "test accuracy 0.6535625\n",
      "train accuracy 0.9916875\n"
     ]
    }
   ],
   "source": [
    "clf_knn = KNeighborsClassifier(n_neighbors=N_NEIGHBORS).fit(X_train, y_train)\n",
    "\n",
    "pred_X_train = clf_knn.predict(X_train)\n",
    "pred_X_test = clf_knn.predict(X_test)\n",
    "\n",
    "print('classification report test\\n', metrics.classification_report(y_test, pred_X_test))\n",
    "print('test accuracy', metrics.accuracy_score(y_test, pred_X_test))\n",
    "print('train accuracy', metrics.accuracy_score(y_train, pred_X_train))"
   ]
  },
  {
   "cell_type": "markdown",
   "metadata": {},
   "source": [
    "#### GridSearch for best KNN parameters"
   ]
  },
  {
   "cell_type": "code",
   "execution_count": null,
   "metadata": {},
   "outputs": [
    {
     "name": "stdout",
     "output_type": "stream",
     "text": [
      "Fitting 5 folds for each of 16 candidates, totalling 80 fits\n",
      "{'metric': 'minkowski', 'n_neighbors': 13, 'p': 1, 'weights': 'distance'}\n",
      "0.6845312499999999\n"
     ]
    }
   ],
   "source": [
    "PARAM_GRID = {'n_neighbors': [1, 5, 9, 13],\n",
    "              'p': [1, 2],\n",
    "              'weights': ('uniform', 'distance'),\n",
    "              'metric': ['minkowski']\n",
    "              }\n",
    "\n",
    "\n",
    "grid = GridSearchCV(estimator=KNeighborsClassifier(),\n",
    "                    param_grid=PARAM_GRID,\n",
    "                    scoring='accuracy',\n",
    "                    n_jobs=-1,\n",
    "                    refit=True,\n",
    "                    cv=5,\n",
    "                    verbose=4\n",
    "                    )\n",
    "\n",
    "grid.fit(X_train, y_train)\n",
    "\n",
    "# results\n",
    "print(grid.best_params_)\n",
    "print(grid.best_score_)"
   ]
  },
  {
   "cell_type": "code",
   "execution_count": null,
   "metadata": {},
   "outputs": [
    {
     "name": "stdout",
     "output_type": "stream",
     "text": [
      "classification report grid test\n",
      "               precision    recall  f1-score   support\n",
      "\n",
      "           0       0.71      0.64      0.67      7991\n",
      "           1       0.67      0.74      0.71      8009\n",
      "\n",
      "    accuracy                           0.69     16000\n",
      "   macro avg       0.69      0.69      0.69     16000\n",
      "weighted avg       0.69      0.69      0.69     16000\n",
      "\n"
     ]
    }
   ],
   "source": [
    "# predict X_test for the best parameters\n",
    "pred_grid = grid.predict(X_test)\n",
    "\n",
    "print('classification report grid test\\n', metrics.classification_report(y_test, pred_grid))"
   ]
  },
  {
   "cell_type": "markdown",
   "metadata": {},
   "source": [
    "## 4. Dataset without apostrophe in regex and stemming"
   ]
  },
  {
   "cell_type": "code",
   "execution_count": null,
   "metadata": {},
   "outputs": [
    {
     "data": {
      "text/html": [
       "<div>\n",
       "<style scoped>\n",
       "    .dataframe tbody tr th:only-of-type {\n",
       "        vertical-align: middle;\n",
       "    }\n",
       "\n",
       "    .dataframe tbody tr th {\n",
       "        vertical-align: top;\n",
       "    }\n",
       "\n",
       "    .dataframe thead th {\n",
       "        text-align: right;\n",
       "    }\n",
       "</style>\n",
       "<table border=\"1\" class=\"dataframe\">\n",
       "  <thead>\n",
       "    <tr style=\"text-align: right;\">\n",
       "      <th></th>\n",
       "      <th>sentiment</th>\n",
       "      <th>tweet</th>\n",
       "    </tr>\n",
       "  </thead>\n",
       "  <tbody>\n",
       "    <tr>\n",
       "      <th>0</th>\n",
       "      <td>0</td>\n",
       "      <td>['aww', 'bummer', 'shoulda', 'got', 'david', 'carr', 'third', 'day']</td>\n",
       "    </tr>\n",
       "    <tr>\n",
       "      <th>1</th>\n",
       "      <td>0</td>\n",
       "      <td>['upset', 'updat', 'facebook', 'text', 'might', 'cri', 'result', 'school', 'today', 'also', 'blah']</td>\n",
       "    </tr>\n",
       "    <tr>\n",
       "      <th>2</th>\n",
       "      <td>0</td>\n",
       "      <td>['dive', 'mani', 'time', 'ball', 'manag', 'save', '50', 'rest', 'go', 'bound']</td>\n",
       "    </tr>\n",
       "    <tr>\n",
       "      <th>3</th>\n",
       "      <td>0</td>\n",
       "      <td>['whole', 'bodi', 'feel', 'itchi', 'like', 'fire']</td>\n",
       "    </tr>\n",
       "    <tr>\n",
       "      <th>4</th>\n",
       "      <td>0</td>\n",
       "      <td>['behav', 'mad', 'see']</td>\n",
       "    </tr>\n",
       "  </tbody>\n",
       "</table>\n",
       "</div>"
      ],
      "text/plain": [
       "   sentiment  \\\n",
       "0          0   \n",
       "1          0   \n",
       "2          0   \n",
       "3          0   \n",
       "4          0   \n",
       "\n",
       "                                                                                                 tweet  \n",
       "0                                 ['aww', 'bummer', 'shoulda', 'got', 'david', 'carr', 'third', 'day']  \n",
       "1  ['upset', 'updat', 'facebook', 'text', 'might', 'cri', 'result', 'school', 'today', 'also', 'blah']  \n",
       "2                       ['dive', 'mani', 'time', 'ball', 'manag', 'save', '50', 'rest', 'go', 'bound']  \n",
       "3                                                   ['whole', 'bodi', 'feel', 'itchi', 'like', 'fire']  \n",
       "4                                                                              ['behav', 'mad', 'see']  "
      ]
     },
     "execution_count": 26,
     "metadata": {},
     "output_type": "execute_result"
    }
   ],
   "source": [
    "DATA_NAME = 'sentiment140/sentiment140_stem_all_no_apostrophe.csv'\n",
    "ENCODING = 'latin-1'\n",
    "COLUMN_NAMES = ['sentiment', 'tweet']\n",
    "NROWS = 1600000\n",
    "\n",
    "df_no_apostrophe_stem = pd.read_csv(DATA_NAME,\n",
    "                                encoding=ENCODING,\n",
    "                                header=None,\n",
    "                                names=COLUMN_NAMES,\n",
    "                                nrows=NROWS\n",
    "                                )\n",
    "\n",
    "df_no_apostrophe_stem.head(5)"
   ]
  },
  {
   "cell_type": "code",
   "execution_count": null,
   "metadata": {},
   "outputs": [
    {
     "name": "stdout",
     "output_type": "stream",
     "text": [
      "10% df sentiment\n",
      "0    80081\n",
      "1    79919\n",
      "Name: count, dtype: int64\n",
      "5% df sentiment\n",
      "0    40081\n",
      "1    39919\n",
      "Name: count, dtype: int64\n"
     ]
    }
   ],
   "source": [
    "# create smaller dataset\n",
    "length_of_df_w = df_no_apostrophe_stem.shape[0]\n",
    "df_no_apostrophe_stem_10 = df_no_apostrophe_stem.iloc[int((length_of_df_w/2) - 80000):int((length_of_df_w/2) + 80000)]\n",
    "df_no_apostrophe_stem_5 = df_no_apostrophe_stem.iloc[int((length_of_df_w/2) - 40000):int((length_of_df_w/2) + 40000)]\n",
    "\n",
    "print('10% df', df_no_apostrophe_stem_10.sentiment.value_counts())\n",
    "print('5% df', df_no_apostrophe_stem_5.sentiment.value_counts())"
   ]
  },
  {
   "cell_type": "code",
   "execution_count": null,
   "metadata": {},
   "outputs": [],
   "source": [
    "USED_DF = df_no_apostrophe_stem_10\n",
    "MAX_FEATURES = 10000\n",
    "TEST_SIZE = 0.2\n",
    "N_NEIGHBORS = 1"
   ]
  },
  {
   "cell_type": "code",
   "execution_count": null,
   "metadata": {},
   "outputs": [],
   "source": [
    "X_train, X_test, y_train, y_test = train_test_split(\n",
    "                                    USED_DF.tweet,\n",
    "                                    USED_DF.sentiment,\n",
    "                                    test_size=TEST_SIZE,\n",
    "                                    random_state=42\n",
    "                                    )"
   ]
  },
  {
   "cell_type": "code",
   "execution_count": null,
   "metadata": {},
   "outputs": [
    {
     "name": "stdout",
     "output_type": "stream",
     "text": [
      "X_train_shape (64000, 10000)\n",
      "X_test_shape (16000, 10000)\n",
      "y_train_shape (64000,)\n",
      "y_test_shape (16000,)\n"
     ]
    }
   ],
   "source": [
    "# Bag of Words model\n",
    "vectorizer = CountVectorizer(max_features=MAX_FEATURES)\n",
    "BoWvectorizer = vectorizer.fit(USED_DF.tweet)\n",
    "\n",
    "X_train = BoWvectorizer.transform(X_train)\n",
    "X_test = BoWvectorizer.transform(X_test)\n",
    "\n",
    "print(\"X_train_shape\", X_train.toarray().shape)\n",
    "print(\"X_test_shape\", X_test.toarray().shape)\n",
    "print(\"y_train_shape\", y_train.shape)\n",
    "print(\"y_test_shape\", y_test.shape)"
   ]
  },
  {
   "cell_type": "code",
   "execution_count": null,
   "metadata": {},
   "outputs": [
    {
     "name": "stdout",
     "output_type": "stream",
     "text": [
      "classification report test\n",
      "               precision    recall  f1-score   support\n",
      "\n",
      "           0       0.66      0.64      0.65      7992\n",
      "           1       0.65      0.67      0.66      8008\n",
      "\n",
      "    accuracy                           0.65     16000\n",
      "   macro avg       0.65      0.65      0.65     16000\n",
      "weighted avg       0.65      0.65      0.65     16000\n",
      "\n",
      "test accuracy 0.6545\n",
      "train accuracy 0.990640625\n"
     ]
    }
   ],
   "source": [
    "clf_knn = KNeighborsClassifier(n_neighbors=N_NEIGHBORS).fit(X_train, y_train)\n",
    "\n",
    "pred_X_train = clf_knn.predict(X_train)\n",
    "pred_X_test = clf_knn.predict(X_test)\n",
    "\n",
    "print('classification report test\\n', metrics.classification_report(y_test, pred_X_test))\n",
    "print('test accuracy', metrics.accuracy_score(y_test, pred_X_test))\n",
    "print('train accuracy', metrics.accuracy_score(y_train, pred_X_train))"
   ]
  },
  {
   "cell_type": "markdown",
   "metadata": {},
   "source": [
    "#### GridSearch for best KNN parameters"
   ]
  },
  {
   "cell_type": "code",
   "execution_count": null,
   "metadata": {},
   "outputs": [
    {
     "name": "stdout",
     "output_type": "stream",
     "text": [
      "Fitting 5 folds for each of 16 candidates, totalling 80 fits\n",
      "{'metric': 'minkowski', 'n_neighbors': 13, 'p': 1, 'weights': 'distance'}\n",
      "0.6855625\n"
     ]
    }
   ],
   "source": [
    "PARAM_GRID = {'n_neighbors': [1, 5, 9, 13],\n",
    "              'p': [1, 2],\n",
    "              'weights': ('uniform', 'distance'),\n",
    "              'metric': ['minkowski']\n",
    "              }\n",
    "\n",
    "\n",
    "grid = GridSearchCV(estimator=KNeighborsClassifier(),\n",
    "                    param_grid=PARAM_GRID,\n",
    "                    scoring='accuracy',\n",
    "                    n_jobs=-1,\n",
    "                    refit=True,\n",
    "                    cv=5,\n",
    "                    verbose=4\n",
    "                    )\n",
    "\n",
    "grid.fit(X_train, y_train)\n",
    "\n",
    "# results\n",
    "print(grid.best_params_)\n",
    "print(grid.best_score_)"
   ]
  },
  {
   "cell_type": "code",
   "execution_count": null,
   "metadata": {},
   "outputs": [
    {
     "name": "stdout",
     "output_type": "stream",
     "text": [
      "classification report grid test\n",
      "               precision    recall  f1-score   support\n",
      "\n",
      "           0       0.73      0.61      0.67      7992\n",
      "           1       0.67      0.77      0.71      8008\n",
      "\n",
      "    accuracy                           0.69     16000\n",
      "   macro avg       0.70      0.69      0.69     16000\n",
      "weighted avg       0.70      0.69      0.69     16000\n",
      "\n"
     ]
    }
   ],
   "source": [
    "# predict X_test for the best parameters\n",
    "pred_grid = grid.predict(X_test)\n",
    "\n",
    "print('classification report grid test\\n', metrics.classification_report(y_test, pred_grid))"
   ]
  }
 ],
 "metadata": {
  "kernelspec": {
   "display_name": "ds",
   "language": "python",
   "name": "python3"
  },
  "language_info": {
   "codemirror_mode": {
    "name": "ipython",
    "version": 3
   },
   "file_extension": ".py",
   "mimetype": "text/x-python",
   "name": "python",
   "nbconvert_exporter": "python",
   "pygments_lexer": "ipython3",
   "version": "3.11.5"
  }
 },
 "nbformat": 4,
 "nbformat_minor": 2
}
